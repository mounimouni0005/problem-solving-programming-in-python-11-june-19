{
 "cells": [
  {
   "cell_type": "code",
   "execution_count": null,
   "metadata": {},
   "outputs": [],
   "source": [
    "# check if a number is even or odd\n",
    "n=123\n",
    "if n % 2 == 0:\n",
    "      print(\"even\")\n",
    "else:\n",
    "      print(\"odd\")"
   ]
  },
  {
   "cell_type": "code",
   "execution_count": null,
   "metadata": {},
   "outputs": [],
   "source": [
    "# find the greatest of 3 numbers\n",
    "n1 = int(input(\"enter the first number\"))\n",
    "n2 = int(input(\"enter the second number\"))\n",
    "n3 = int(input(\"enter the third number\"))\n",
    "\n",
    "if n1 > n2 and n1 > n3:\n",
    "    print(n1, \"is the greatest\")\n",
    "elif n2 > n3:\n",
    "    print(n2, \"is the greatest\")\n",
    "else: \n",
    "    print(n3, \"is the greatest\")\n",
    "print(type(n1))"
   ]
  },
  {
   "cell_type": "code",
   "execution_count": null,
   "metadata": {},
   "outputs": [],
   "source": [
    "# check the given year is a leap year"
   ]
  },
  {
   "cell_type": "code",
   "execution_count": null,
   "metadata": {},
   "outputs": [],
   "source": [
    "n1=int(input(\"enter the year\"))\n",
    "if n%400==0 or n%100!=0 and n%4==0:\n",
    "    print(n1, \"is a leap year\")\n",
    "else:\n",
    "    print(n1, \"is not a leap year\")"
   ]
  },
  {
   "cell_type": "code",
   "execution_count": null,
   "metadata": {},
   "outputs": [],
   "source": [
    "#check if a number exists in a given range\n",
    "n=int(input(\"enter the \"))"
   ]
  },
  {
   "cell_type": "code",
   "execution_count": null,
   "metadata": {},
   "outputs": [],
   "source": [
    "#calculate the number of digits in a number"
   ]
  },
  {
   "cell_type": "code",
   "execution_count": 1,
   "metadata": {},
   "outputs": [
    {
     "name": "stdout",
     "output_type": "stream",
     "text": [
      "enter a number1000\n",
      "1000 is a multiple of 10\n"
     ]
    }
   ],
   "source": [
    "#check if a number is a multiple of 10\n",
    "n=int(input(\"enter a number\"))\n",
    "if n%10==0:\n",
    "    print(n, \"is a multiple of 10\")\n",
    "else:\n",
    "    print(n, \"is not a multiple of 10\")"
   ]
  },
  {
   "cell_type": "code",
   "execution_count": 2,
   "metadata": {},
   "outputs": [
    {
     "name": "stdout",
     "output_type": "stream",
     "text": [
      "enter the number1000\n",
      "1000 is the factor of 1000\n"
     ]
    }
   ],
   "source": [
    "#check if a number is a factor of 1000\n",
    "n=int(input(\"enter the number\"))\n",
    "if 1000%n==0:\n",
    "    print(n, \"is the factor of 1000\")\n",
    "else:\n",
    "    print(n, \"is not the factor of 1000\")"
   ]
  },
  {
   "cell_type": "code",
   "execution_count": 6,
   "metadata": {},
   "outputs": [
    {
     "name": "stdout",
     "output_type": "stream",
     "text": [
      "1234 is equal to 1234\n"
     ]
    }
   ],
   "source": [
    "#check if given string is equal to a number\n",
    "s1=\"1234\"\n",
    "n1=1234\n",
    "if str(n1)==s1:\n",
    "    print(n1, \"is equal to\",s1)\n",
    "else:\n",
    "    print(n1, \"is not equal to\",s1)"
   ]
  },
  {
   "cell_type": "code",
   "execution_count": 7,
   "metadata": {},
   "outputs": [
    {
     "data": {
      "text/plain": [
       "11.090536506409418"
      ]
     },
     "execution_count": 7,
     "metadata": {},
     "output_type": "execute_result"
    }
   ],
   "source": [
    "#calculate the square root of a number without using functionsn1\n",
    "n1=123\n",
    "n1 ** 0.5\n"
   ]
  },
  {
   "cell_type": "code",
   "execution_count": null,
   "metadata": {},
   "outputs": [],
   "source": [
    "#calculate the number of nano seconds in a \n",
    "year=2019"
   ]
  },
  {
   "cell_type": "code",
   "execution_count": null,
   "metadata": {},
   "outputs": [],
   "source": []
  }
 ],
 "metadata": {
  "kernelspec": {
   "display_name": "Python 3",
   "language": "python",
   "name": "python3"
  },
  "language_info": {
   "codemirror_mode": {
    "name": "ipython",
    "version": 3
   },
   "file_extension": ".py",
   "mimetype": "text/x-python",
   "name": "python",
   "nbconvert_exporter": "python",
   "pygments_lexer": "ipython3",
   "version": "3.7.3"
  }
 },
 "nbformat": 4,
 "nbformat_minor": 2
}
