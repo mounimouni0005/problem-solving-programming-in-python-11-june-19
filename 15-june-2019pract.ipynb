{
 "cells": [
  {
   "cell_type": "code",
   "execution_count": 21,
   "metadata": {},
   "outputs": [
    {
     "name": "stdout",
     "output_type": "stream",
     "text": [
      "2\n",
      "3\n",
      "4\n",
      "7\n"
     ]
    }
   ],
   "source": [
    "#sum of integrs in an given array\n",
    "n=int(input())\n",
    "def sum_of(n):\n",
    "    sum=0\n",
    "    for i in range(1,n+1):\n",
    "        i=int(input())\n",
    "        sum=sum+i\n",
    "    print(sum)\n",
    "sum_of(n)\n",
    "    "
   ]
  },
  {
   "cell_type": "markdown",
   "metadata": {},
   "source": [
    " \n",
    " "
   ]
  }
 ],
 "metadata": {
  "kernelspec": {
   "display_name": "Python 3",
   "language": "python",
   "name": "python3"
  }
 },
 "nbformat": 4,
 "nbformat_minor": 2
}
