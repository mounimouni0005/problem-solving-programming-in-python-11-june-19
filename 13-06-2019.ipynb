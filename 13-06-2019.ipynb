{
 "cells": [
  {
   "cell_type": "code",
   "execution_count": null,
   "metadata": {},
   "outputs": [],
   "source": [
    "#function to generate all perfect numbers in a given range"
   ]
  },
  {
   "cell_type": "code",
   "execution_count": null,
   "metadata": {},
   "outputs": [],
   "source": [
    "#funciton to calculate the average first N prime numbers"
   ]
  },
  {
   "cell_type": "markdown",
   "metadata": {},
   "source": [
    "### advanced problem set(optional)"
   ]
  },
  {
   "cell_type": "code",
   "execution_count": 72,
   "metadata": {},
   "outputs": [
    {
     "name": "stdout",
     "output_type": "stream",
     "text": [
      "120.0\n"
     ]
    }
   ],
   "source": [
    "#fucntion to calculate average  of all factorials in a given range\n",
    "def avgfact(n):\n",
    "    fact=1\n",
    "    sum=count=0\n",
    "    for i in range(1,n+1):\n",
    "        fact*=i\n",
    "        sum+=fact\n",
    "        count+=1\n",
    "    print(fact/count)\n",
    "avgfact(6)"
   ]
  },
  {
   "cell_type": "code",
   "execution_count": null,
   "metadata": {},
   "outputs": [],
   "source": []
  },
  {
   "cell_type": "code",
   "execution_count": 73,
   "metadata": {},
   "outputs": [
    {
     "name": "stdout",
     "output_type": "stream",
     "text": [
      "10 * 100 = 1000\n",
      "10 * 101 = 1010\n",
      "10 * 102 = 1020\n"
     ]
    }
   ],
   "source": [
    "#funciton to generate multiplication tables for a number in a given range\n",
    "# 10 in the range(100,110) inclusive\n",
    "#10*100=1000\n",
    "#10*101=1010\n",
    "#10*102=1020\n",
    "def multiplicationrange(n,lb,ub):\n",
    "    for i in range(lb,ub+1):\n",
    "        print(n,\"*\",lb,\"=\",n*lb)\n",
    "        lb=lb+1\n",
    "multiplicationrange(10,100,102)"
   ]
  },
  {
   "cell_type": "code",
   "execution_count": 6,
   "metadata": {},
   "outputs": [
    {
     "name": "stdout",
     "output_type": "stream",
     "text": [
      "500 504 508 512 516 520 524 "
     ]
    }
   ],
   "source": [
    "#function to print the alterante values in a range in the same line\n",
    "#inclusive of set nubmers from[500,550]-->inclusive set(in programming it is an array) (500,550)-->exclusive set(dnt include first and last values)\n",
    "#[500,550]-->500 502.....550\n",
    "#(500,550)-->501 502.....549\n",
    "#range(500,550)-->500 501....549\n",
    "#all set based funcions in python have start value inclusive and end value exclusive\n",
    "def alternatevalues(lb,ub):\n",
    "    for i in range(lb,ub+1,4):\n",
    "        print(i,end=\" \")\n",
    "    return\n",
    "alternatevalues(500,525)"
   ]
  },
  {
   "cell_type": "code",
   "execution_count": 9,
   "metadata": {},
   "outputs": [],
   "source": [
    "#funciton to print reverse of given range in the same line\n",
    "def reverserang(lb,ub):\n",
    "    for i in range(ub,lb-1,-1):\n",
    "        print(i,end=\" \")\n",
    "   # return\n",
    "\n",
    "reverserang(26,20)"
   ]
  },
  {
   "cell_type": "code",
   "execution_count": 12,
   "metadata": {},
   "outputs": [
    {
     "name": "stdout",
     "output_type": "stream",
     "text": [
      "26 25 24 23 22 21 20 "
     ]
    }
   ],
   "source": [
    "def reverserang(lb,ub):\n",
    "    for i in range(ub,lb-1,-1):\n",
    "        print(i,end=\" \")\n",
    "   # return\n",
    "reverserang(20,26)"
   ]
  },
  {
   "cell_type": "code",
   "execution_count": 15,
   "metadata": {},
   "outputs": [
    {
     "name": "stdout",
     "output_type": "stream",
     "text": [
      "129 127 125 123 "
     ]
    }
   ],
   "source": [
    "#function to print the odd nubmers in reverse order\n",
    "def reverseodd(start,end):\n",
    "    for i in range(end,start-1,-1):\n",
    "        if i%2!=0:\n",
    "            print(i,end=\" \")\n",
    "    return\n",
    "reverseodd(123,130)"
   ]
  },
  {
   "cell_type": "code",
   "execution_count": 16,
   "metadata": {},
   "outputs": [
    {
     "data": {
      "text/plain": [
       "15150"
      ]
     },
     "execution_count": 16,
     "metadata": {},
     "output_type": "execute_result"
    }
   ],
   "source": [
    "#funciton to calculate the sum of numbers in a range\n",
    "def sumrange(start,end):\n",
    "    sum=0\n",
    "    for i in range(start,end+1):\n",
    "        sum=sum+i\n",
    "    return sum\n",
    "sumrange(100,200)"
   ]
  },
  {
   "cell_type": "code",
   "execution_count": 25,
   "metadata": {},
   "outputs": [
    {
     "data": {
      "text/plain": [
       "5"
      ]
     },
     "execution_count": 25,
     "metadata": {},
     "output_type": "execute_result"
    }
   ],
   "source": [
    "#funciton to calculate the average of a given range\n",
    "#(1,5)-->3\n",
    "def avgrange(lb,ub):\n",
    "    sum=0\n",
    "    count=0\n",
    "    for i in range(lb,ub+1):\n",
    "        sum=sum+i\n",
    "        count=count+1\n",
    "    return sum//count\n",
    "avgrange(1,10)"
   ]
  },
  {
   "cell_type": "code",
   "execution_count": 30,
   "metadata": {},
   "outputs": [
    {
     "name": "stdout",
     "output_type": "stream",
     "text": [
      "2000 2004 2008 2012 2016 2020 "
     ]
    }
   ],
   "source": [
    "#function to generate all leap year in a given time period\n",
    "#2000-2020-->2000 2004 2012 2016 2020\n",
    "def isleapyear(lb,ub):\n",
    "    for i in range(lb,ub+1):\n",
    "        if i%400==0 or i%100!=0 and i%4==0:\n",
    "            print(i,end=\" \")\n",
    "isleapyear(2000,2020)"
   ]
  },
  {
   "cell_type": "code",
   "execution_count": 33,
   "metadata": {},
   "outputs": [
    {
     "name": "stdout",
     "output_type": "stream",
     "text": [
      "24 30 36 42 48 54 60 66 72 78 84 90 96 102 108 114 120 126 132 138 144 150 "
     ]
    }
   ],
   "source": [
    "#function to print all numbers divisible by 6\n",
    "#and not a factor of 100 in a given range(lb,ub)inclusive\n",
    "def divisiblerange(lb,ub):\n",
    "    for i in range(lb,ub+1):\n",
    "        if i%6==0 and 100%i!=0:\n",
    "            print(i,end=\" \")\n",
    "divisiblerange(20,150)"
   ]
  },
  {
   "cell_type": "code",
   "execution_count": 37,
   "metadata": {},
   "outputs": [
    {
     "name": "stdout",
     "output_type": "stream",
     "text": [
      "2000 2004 2008 2012 2016 2020 "
     ]
    }
   ],
   "source": [
    "#function to generate all leap years in a given time period\n",
    "#[200,2020]-->2000 2004 2008 2012 2016 2020\n",
    "def isleapyear(year):\n",
    "    if year%400==0 or year%100!=0 and year%4==0:\n",
    "        return True\n",
    "    return False\n",
    "def generateleapyears(startyear,endyear):\n",
    "    for i in range(startyear,endyear+1):\n",
    "        if isleapyear(i):\n",
    "            print(i,end=\" \")\n",
    "generateleapyears(2000,2020)"
   ]
  },
  {
   "cell_type": "code",
   "execution_count": 53,
   "metadata": {},
   "outputs": [
    {
     "data": {
      "text/plain": [
       "4018"
      ]
     },
     "execution_count": 53,
     "metadata": {},
     "output_type": "execute_result"
    }
   ],
   "source": [
    "#calculate number of days in a given time peroid\n",
    "#for every year in a given time period,if the year is not a leap year-->add 365 not add 366\n",
    "def numberofdays(lb,ub):\n",
    "    sum=0\n",
    "    for year in range(lb,ub+1):\n",
    "        if isleapyear(year):\n",
    "            sum=sum+366\n",
    "        else:\n",
    "            sum=sum+365\n",
    "            \n",
    "    return sum\n",
    "numberofdays(2000,2010)\n",
    "         "
   ]
  },
  {
   "cell_type": "code",
   "execution_count": null,
   "metadata": {},
   "outputs": [],
   "source": [
    "#function to calculate number of hours for a given period\n",
    "#numberofhours(11,1975,3,1999)-->\n",
    "def numofhours(lb,ub):\n",
    "    sum=0\n",
    "    for year in range(lb,ub+1):\n",
    "        if isleapyear(year):\n",
    "            sum=\n",
    "\n",
    "\n",
    "\n",
    "\n"
   ]
  },
  {
   "cell_type": "code",
   "execution_count": null,
   "metadata": {},
   "outputs": [],
   "source": []
  }
 ],
 "metadata": {
  "kernelspec": {
   "display_name": "Python 3",
   "language": "python",
   "name": "python3"
  },
  "language_info": {
   "codemirror_mode": {
    "name": "ipython",
    "version": 3
   },
   "file_extension": ".py",
   "mimetype": "text/x-python",
   "name": "python",
   "nbconvert_exporter": "python",
   "pygments_lexer": "ipython3",
   "version": "3.7.3"
  }
 },
 "nbformat": 4,
 "nbformat_minor": 2
}
