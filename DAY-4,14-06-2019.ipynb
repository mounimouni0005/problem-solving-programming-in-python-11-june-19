{
 "cells": [
  {
   "cell_type": "markdown",
   "metadata": {},
   "source": [
    "### Python data structures"
   ]
  },
  {
   "cell_type": "markdown",
   "metadata": {},
   "source": [
    "### List"
   ]
  },
  {
   "cell_type": "code",
   "execution_count": 34,
   "metadata": {},
   "outputs": [
    {
     "data": {
      "text/plain": [
       "2601"
      ]
     },
     "execution_count": 34,
     "metadata": {},
     "output_type": "execute_result"
    }
   ],
   "source": [
    "li = [123,978,654]\n",
    "li #access the entire list\n",
    "li[1]#access an element with index in a list\n",
    "li[1:]#access the second element to last element\n",
    "li[::-1]#access the all element to reverse order\n",
    "li=li[::-1]#update the original list,original list got updated to the reverse\n",
    "li[::2]\n",
    "li[1::2]\n",
    "li[1::3]\n",
    "li[0:]\n",
    "li[1:2]\n",
    "li[1:]\n",
    "#list can be accessed,manipulated in 2 ways\n",
    "#direct referencing--[index]\n",
    "#indirect referecing-->[through funciotns]\n",
    "\n",
    "li.append(345)#adding an element to end of the list\n",
    "\n",
    "li.insert(1,234)#adding an element at a particular position\n",
    "\n",
    "li.sort()#sort elements in ascending order\n",
    "\n",
    "li.pop()#remove the last element is a list\n",
    "\n",
    "li.pop(1)#remove an element at a particular index\n",
    "\n",
    "li2=[234,456,789]\n",
    "\n",
    "li.extend(li2)#merge list 2 into list 1\n",
    "\n",
    "sum(li)#sum of all elements in a list\n",
    "max(li)#maximum elements in the list\n",
    "len(li)#number of elements in a list"
   ]
  },
  {
   "cell_type": "code",
   "execution_count": 43,
   "metadata": {},
   "outputs": [
    {
     "data": {
      "text/plain": [
       "400.5"
      ]
     },
     "execution_count": 43,
     "metadata": {},
     "output_type": "execute_result"
    }
   ],
   "source": [
    "#average of list elemnts\n",
    "li=[123,234,345,456,567]\n",
    "sum(li)/len(li)\n"
   ]
  },
  {
   "cell_type": "code",
   "execution_count": 46,
   "metadata": {},
   "outputs": [
    {
     "data": {
      "text/plain": [
       "345.0"
      ]
     },
     "execution_count": 46,
     "metadata": {},
     "output_type": "execute_result"
    }
   ],
   "source": [
    "#average of all alternate elements\n",
    "li=[123,234,345,456,567,678]\n",
    "\n",
    "sum(li[::2])/len(li[::2])"
   ]
  },
  {
   "cell_type": "code",
   "execution_count": 53,
   "metadata": {},
   "outputs": [
    {
     "data": {
      "text/plain": [
       "345"
      ]
     },
     "execution_count": 53,
     "metadata": {},
     "output_type": "execute_result"
    }
   ],
   "source": [
    "#identify the second largest emlement in the list\n",
    "li=[123,234,345,456]\n",
    "li.sort()\n",
    "li[-2]\n",
    "    \n"
   ]
  },
  {
   "cell_type": "code",
   "execution_count": 60,
   "metadata": {},
   "outputs": [
    {
     "name": "stdout",
     "output_type": "stream",
     "text": [
      "enter a size5\n",
      "enter the values12\n",
      "enter the values23\n",
      "enter the values34\n",
      "enter the values45\n",
      "enter the values46\n",
      "[12, 23, 34, 45, 46]\n",
      "45\n"
     ]
    }
   ],
   "source": [
    "#funciton to identify the second largest element in the list\n",
    "def secondlargest(li):\n",
    "    li=[]\n",
    "    n=int(input(\"enter a size\"))\n",
    "    for i in range(n):\n",
    "        m=int(input(\"enter the values\"))\n",
    "        li.append(m)\n",
    "    li.sort()\n",
    "    print(li)\n",
    "    print(li[-2])\n",
    "    \n",
    "#def genericlargest(li,n):\n",
    "secondlargest(li)\n",
    "\n"
   ]
  },
  {
   "cell_type": "code",
   "execution_count": 61,
   "metadata": {},
   "outputs": [
    {
     "data": {
      "text/plain": [
       "1"
      ]
     },
     "execution_count": 61,
     "metadata": {},
     "output_type": "execute_result"
    }
   ],
   "source": [
    "#function to search for data in a list\n",
    "#search for the key in the list and return the index\n",
    "def linearsearch(li,key):D\n",
    "    for index in range(0,len(li)):\n",
    "        if li[index]==key:\n",
    "            return index\n",
    "    return -1\n",
    "def linearsearch2(li,key):\n",
    "    for element in li:\n",
    "        if element==key:\n",
    "            return li.index(element)\n",
    "    return -1\n",
    "linearsearch2(li,234)"
   ]
  },
  {
   "cell_type": "code",
   "execution_count": 66,
   "metadata": {},
   "outputs": [
    {
     "data": {
      "text/plain": [
       "0"
      ]
     },
     "execution_count": 66,
     "metadata": {},
     "output_type": "execute_result"
    }
   ],
   "source": [
    "#fucntion to count the occurances of a character in a list\n",
    "#\"python programming\",m-->2\n",
    "def countcharoccurances(s,c):\n",
    "    count=0\n",
    "    for ch in s:\n",
    "        if ch==c:\n",
    "            count+=1\n",
    "    return count\n",
    "def countcharoccurances2(s,c):\n",
    "    return s.count(c)\n",
    "countcharoccurances2(\"python programming\",'Py')\n",
    "            \n"
   ]
  },
  {
   "cell_type": "code",
   "execution_count": null,
   "metadata": {},
   "outputs": [],
   "source": [
    "#function to find the number of occurances of a substring\n",
    "#\"abcabcddcbaaaa\",\"aa\"-->3"
   ]
  },
  {
   "cell_type": "code",
   "execution_count": null,
   "metadata": {},
   "outputs": [],
   "source": []
  },
  {
   "cell_type": "code",
   "execution_count": null,
   "metadata": {},
   "outputs": [],
   "source": []
  },
  {
   "cell_type": "code",
   "execution_count": null,
   "metadata": {},
   "outputs": [],
   "source": []
  },
  {
   "cell_type": "code",
   "execution_count": null,
   "metadata": {},
   "outputs": [],
   "source": []
  }
 ],
 "metadata": {
  "kernelspec": {
   "display_name": "Python 3",
   "language": "python",
   "name": "python3"
  },
  "language_info": {
   "codemirror_mode": {
    "name": "ipython",
    "version": 3
   },
   "file_extension": ".py",
   "mimetype": "text/x-python",
   "name": "python",
   "nbconvert_exporter": "python",
   "pygments_lexer": "ipython3",
   "version": "3.7.3"
  }
 },
 "nbformat": 4,
 "nbformat_minor": 2
}
