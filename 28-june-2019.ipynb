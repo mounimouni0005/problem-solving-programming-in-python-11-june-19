{
 "cells": [
  {
   "cell_type": "markdown",
   "metadata": {},
   "source": [
    "### task "
   ]
  },
  {
   "cell_type": "code",
   "execution_count": 3,
   "metadata": {},
   "outputs": [
    {
     "name": "stdout",
     "output_type": "stream",
     "text": [
      "A P S S D C\n",
      "Apssdc\n"
     ]
    }
   ],
   "source": [
    "#1\n",
    "#Print given characters as a word with starting character capital form and remaining lower\n",
    "#A P S S D C\n",
    "#Apssdc\n",
    "n=input()\n",
    "a=n.capitalize()\n",
    "s=a.replace(' ',\"\")\n",
    "print(s)"
   ]
  },
  {
   "cell_type": "code",
   "execution_count": null,
   "metadata": {},
   "outputs": [],
   "source": [
    "#2\n",
    "#Print the maximum length word of given words\n",
    "#Hai hello world\n",
    "#hello\n",
    "#world\n",
    "li=['hai','hello','world']\n",
    "print(max(li))"
   ]
  },
  {
   "cell_type": "code",
   "execution_count": null,
   "metadata": {},
   "outputs": [],
   "source": [
    "#3\n",
    "#Print all the words which starts with the given character, If no words matches with the given condition you should print -1\n",
    "#ramu ravi balu\n",
    "#r\n",
    "#ramu\n",
    "#ravi\n",
    "n=input().split()\n",
    "for i in n:\n",
    "    if(i.startswith('r')):\n",
    "        print(i)\n",
    "    else:\n",
    "        print(\"-1\")\n",
    "\n"
   ]
  },
  {
   "cell_type": "code",
   "execution_count": null,
   "metadata": {},
   "outputs": [],
   "source": [
    "#4\n",
    "#Print all the words which word contains duplicate characters\n",
    "#ramu akash balu\n",
    "#akash\n"
   ]
  },
  {
   "cell_type": "code",
   "execution_count": null,
   "metadata": {},
   "outputs": [],
   "source": [
    "#5\n",
    "#Swap the case of all characters in given string except last character\n",
    "#HellowOrld\n",
    "#hELLOWoRLd\n",
    "s=input()\n",
    "s1=(s.swapcase())\n",
    "print(s1[0:-1]+\"\".join(s[-1]))\n"
   ]
  },
  {
   "cell_type": "code",
   "execution_count": null,
   "metadata": {},
   "outputs": [],
   "source": [
    "#6\n",
    "#Print the number of words in a given string (here word starting character contains UPPER letter)\n",
    "#HelloWorld\n",
    "#2\n",
    "s=input().split()\n",
    "s=s.title()\n",
    "print(len(s))"
   ]
  },
  {
   "cell_type": "code",
   "execution_count": 11,
   "metadata": {},
   "outputs": [
    {
     "name": "stdout",
     "output_type": "stream",
     "text": [
      "www.way2sms.com\n",
      "0\n",
      "0\n",
      "15\n"
     ]
    }
   ],
   "source": [
    "#7\n",
    "#Print the number of digits, alphabets and any other \n",
    "#www.way2sms.com\n",
    "#DIGITS 1\n",
    "#ALPHABETS  12\n",
    "#OTHER 2\n",
    "sentance=input()\n",
    "digits_no=0\n",
    "alphabets_no=0\n",
    "other_no=0\n",
    "for i in sentance:\n",
    "    if(sentance.isdigit()):\n",
    "        digits_no+=1\n",
    "    if(sentance.isalpha()):\n",
    "        isalphabers_no+=1\n",
    "    if:\n",
    "        other_no+=1\n",
    "print(digits_no)\n",
    "print(alphabets_no)\n",
    "print(other_no)"
   ]
  },
  {
   "cell_type": "code",
   "execution_count": 12,
   "metadata": {},
   "outputs": [
    {
     "name": "stdout",
     "output_type": "stream",
     "text": [
      "apssdc\n"
     ]
    },
    {
     "data": {
      "text/plain": [
       "'Apssdc'"
      ]
     },
     "execution_count": 12,
     "metadata": {},
     "output_type": "execute_result"
    }
   ],
   "source": [
    "#1st problem\n",
    "#1. Print given characters as a word with starting character capital form and remaining lower\n",
    "#A P S S D C\n",
    "#Apssdc\n",
    "characters=input()\n",
    "word=characters.split()\n",
    "''.join(word).capitalize()\n"
   ]
  },
  {
   "cell_type": "code",
   "execution_count": 14,
   "metadata": {},
   "outputs": [
    {
     "name": "stdout",
     "output_type": "stream",
     "text": [
      "hei hello world\n",
      "hello\n",
      "world\n"
     ]
    }
   ],
   "source": [
    "#2nd problem\n",
    "#2. Print the maximum length word of given words\n",
    "#Hai hello world\n",
    "#hello\n",
    "#world\n",
    "words=input().split()\n",
    "lengths=[]\n",
    "for word in words:\n",
    "    lengths.append(len(word))\n",
    "max_length=max(lengths)\n",
    "for word in words:\n",
    "    if max_length==len(word):\n",
    "        print(word)"
   ]
  },
  {
   "cell_type": "code",
   "execution_count": 16,
   "metadata": {},
   "outputs": [
    {
     "name": "stdout",
     "output_type": "stream",
     "text": [
      "hai hello world\n",
      "hello\n",
      "world\n"
     ]
    }
   ],
   "source": [
    "words=input().split()\n",
    "max_lenght=max(list(map(len,words)))\n",
    "for word in words:\n",
    "    if max_length==len(word):\n",
    "        print(word)"
   ]
  },
  {
   "cell_type": "code",
   "execution_count": 21,
   "metadata": {},
   "outputs": [
    {
     "name": "stdout",
     "output_type": "stream",
     "text": [
      "ramu ravi balu\n",
      "r\n",
      "ramu\n",
      "ravi\n"
     ]
    }
   ],
   "source": [
    "#3. Print all the words which starts with the given character, If no words matches with the given condition you should print -1\n",
    "#ramu ravi balu\n",
    "#r\n",
    "#ramu\n",
    "#ravi\n",
    "words=input().split()\n",
    "c=input()\n",
    "match=0\n",
    "for word in words:\n",
    "    if word.startswith(c):\n",
    "        print(word)\n",
    "        match+=1\n",
    "if match==0:\n",
    "    print(-1)\n"
   ]
  },
  {
   "cell_type": "code",
   "execution_count": 22,
   "metadata": {},
   "outputs": [
    {
     "name": "stdout",
     "output_type": "stream",
     "text": [
      "apdafsdgh\n"
     ]
    },
    {
     "data": {
      "text/plain": [
       "'HGDSFADPAh'"
      ]
     },
     "execution_count": 22,
     "metadata": {},
     "output_type": "execute_result"
    }
   ],
   "source": [
    "word=input()\n",
    "word[::-1].swapcase()+word[-1]"
   ]
  },
  {
   "cell_type": "code",
   "execution_count": 25,
   "metadata": {},
   "outputs": [
    {
     "name": "stdout",
     "output_type": "stream",
     "text": [
      "MummanaMounika\n",
      "2\n"
     ]
    }
   ],
   "source": [
    "word=input()\n",
    "count=0\n",
    "for char in word:\n",
    "    if char.isupper():\n",
    "        count+=1\n",
    "print(count)"
   ]
  },
  {
   "cell_type": "code",
   "execution_count": null,
   "metadata": {},
   "outputs": [],
   "source": []
  }
 ],
 "metadata": {
  "kernelspec": {
   "display_name": "Python 3",
   "language": "python",
   "name": "python3"
  }
 },
 "nbformat": 4,
 "nbformat_minor": 2
}
