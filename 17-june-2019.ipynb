{
 "cells": [
  {
   "cell_type": "code",
   "execution_count": 3,
   "metadata": {},
   "outputs": [
    {
     "data": {
      "text/plain": [
       "11"
      ]
     },
     "execution_count": 3,
     "metadata": {},
     "output_type": "execute_result"
    }
   ],
   "source": [
    "#heighest reaminder\n",
    "def reminder(n):\n",
    "    ls=[]\n",
    "    res=[]\n",
    "    for i in range(n,1,-1):\n",
    "        a=n%i\n",
    "        ls.append(a)\n",
    "        res.append(i)\n",
    "        \n",
    "    return res[max(ls)]\n",
    "reminder(20)"
   ]
  },
  {
   "cell_type": "code",
   "execution_count": null,
   "metadata": {},
   "outputs": [
    {
     "name": "stdout",
     "output_type": "stream",
     "text": [
      "6\n",
      "16\n",
      "no\n"
     ]
    }
   ],
   "source": [
    "#function to check perfect number or not \n",
    "def perfect(num):\n",
    "    sum=0\n",
    "    i=1\n",
    "    while(i!=num):\n",
    "        if num%i==0:\n",
    "            sum=sum+i\n",
    "        i=i+1\n",
    "    if sum==num:\n",
    "        print(\"yes\")\n",
    "    else:\n",
    "        print(\"no\")\n",
    "n=int(input())\n",
    "for i in range(1,n+1):\n",
    "    i=int(input())\n",
    "    perfect(i)"
   ]
  },
  {
   "cell_type": "code",
   "execution_count": null,
   "metadata": {},
   "outputs": [
    {
     "name": "stdout",
     "output_type": "stream",
     "text": [
      "12\n",
      "13\n",
      "14\n",
      "NO\n"
     ]
    }
   ],
   "source": [
    "def factors(n):\n",
    "    count=0\n",
    "    for i in range(1,n):\n",
    "        if n%i==0:\n",
    "            if isprime(i):\n",
    "                count=count+1\n",
    "    return count\n",
    "def isprime(n):\n",
    "    if n==1:\n",
    "        return False\n",
    "    for i in range(2,n):\n",
    "        if n%i==0:\n",
    "            return False\n",
    "    return True\n",
    "def noofprimefactors(n):\n",
    "    count=0\n",
    "    for i in range(1,n):\n",
    "        if n%i==0:\n",
    "            if isprime(i):\n",
    "                count+=1\n",
    "    return count\n",
    "p=int(input())\n",
    "q=int(input())\n",
    "for i in range(0,q):\n",
    "    a=int(input())\n",
    "    if noofprimefactors(a)==p:\n",
    "        print(\"YES\")\n",
    "    else:\n",
    "        print(\"NO\")\n"
   ]
  },
  {
   "cell_type": "code",
   "execution_count": 2,
   "metadata": {},
   "outputs": [
    {
     "name": "stdout",
     "output_type": "stream",
     "text": [
      "sd45\n",
      "2 2\n"
     ]
    }
   ],
   "source": [
    "#digits and characters count\n",
    "def countingofdigits(s):\n",
    "    count=0\n",
    "    for i in s:\n",
    "        if i.isdigit():\n",
    "            count+=1\n",
    "    return count\n",
    "def countofalpha(s):\n",
    "    count=0\n",
    "    for i in s:\n",
    "        if i.isalpha():\n",
    "            count+=1\n",
    "    return count\n",
    "s=input()\n",
    "print(countingofdigits(s),countofalpha(s))"
   ]
  },
  {
   "cell_type": "code",
   "execution_count": null,
   "metadata": {},
   "outputs": [],
   "source": []
  }
 ],
 "metadata": {
  "kernelspec": {
   "display_name": "Python 3",
   "language": "python",
   "name": "python3"
  },
  "language_info": {
   "codemirror_mode": {
    "name": "ipython",
    "version": 3
   },
   "file_extension": ".py",
   "mimetype": "text/x-python",
   "name": "python",
   "nbconvert_exporter": "python",
   "pygments_lexer": "ipython3",
   "version": "3.7.3"
  }
 },
 "nbformat": 4,
 "nbformat_minor": 2
}
