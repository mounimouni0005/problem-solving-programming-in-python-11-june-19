{
 "cells": [
  {
   "cell_type": "code",
   "execution_count": 2,
   "metadata": {},
   "outputs": [],
   "source": [
    "# Function to generate maarks data for n students\n",
    "from random import randint\n",
    "def generateMarks(n,lb,ub):\n",
    "    with open(\"DataFiles/marks.txt\",'w') as f:\n",
    "        for i in range(1,n+1):\n",
    "            r=randint(lb,ub)\n",
    "            f.write(str(r)+'\\n')\n",
    "    return\n",
    "generateMarks(5,0,100)"
   ]
  },
  {
   "cell_type": "code",
   "execution_count": 3,
   "metadata": {},
   "outputs": [
    {
     "name": "stdout",
     "output_type": "stream",
     "text": [
      "34.6\n"
     ]
    }
   ],
   "source": [
    "# Function to print average of n students\n",
    "def averageMarks(filepath):\n",
    "    sum=0\n",
    "    count=0\n",
    "    with open(filepath,'r') as f:\n",
    "        for lines in f.readlines():\n",
    "            count=count+1\n",
    "            sum=sum+int(lines)\n",
    "        print(sum/count)\n",
    "    \n",
    "li=[]\n",
    "averageMarks(\"DataFiles/marks.txt\")"
   ]
  },
  {
   "cell_type": "code",
   "execution_count": 4,
   "metadata": {},
   "outputs": [
    {
     "name": "stdout",
     "output_type": "stream",
     "text": [
      "40.0\n"
     ]
    }
   ],
   "source": [
    "# Function to print % of failed students\n",
    "\n",
    "def failedstudents(filepath):\n",
    "    count=0\n",
    "    lcount=0\n",
    "    with open(filepath,'r') as f:\n",
    "        for lines in f.readlines():\n",
    "            lcount=lcount+1\n",
    "            if int(lines)<40:\n",
    "                count=count+1\n",
    "        print(count*100/lcount)\n",
    "failedstudents(\"DataFiles/marks.txt\")"
   ]
  },
  {
   "cell_type": "code",
   "execution_count": 5,
   "metadata": {},
   "outputs": [
    {
     "name": "stdout",
     "output_type": "stream",
     "text": [
      "60.0\n"
     ]
    }
   ],
   "source": [
    "# Function to print % of passed students\n",
    "def passeddstudents(filepath):\n",
    "    count=0\n",
    "    lcount=0\n",
    "    with open(filepath,'r') as f:\n",
    "        for lines in f.readlines():\n",
    "            lcount=lcount+1\n",
    "            if int(lines)>=40:\n",
    "                count=count+1\n",
    "        print(count*100/lcount)\n",
    "passeddstudents(\"DataFiles/marks.txt\")"
   ]
  },
  {
   "cell_type": "code",
   "execution_count": 6,
   "metadata": {},
   "outputs": [
    {
     "name": "stdout",
     "output_type": "stream",
     "text": [
      "0.0\n"
     ]
    }
   ],
   "source": [
    "# Function to print % of distinction students\n",
    "def distinctionstudents(filepath):\n",
    "    count=0\n",
    "    lcount=0\n",
    "    with open(filepath,'r') as f:\n",
    "        for lines in f.readlines():\n",
    "            lcount=lcount+1\n",
    "            if int(lines)>70:\n",
    "                count=count+1\n",
    "        print(count*100/lcount)\n",
    "distinctionstudents(\"DataFiles/marks.txt\")"
   ]
  },
  {
   "cell_type": "code",
   "execution_count": 7,
   "metadata": {},
   "outputs": [
    {
     "name": "stdout",
     "output_type": "stream",
     "text": [
      "64\n"
     ]
    }
   ],
   "source": [
    "# Function to print highest marks of the student\n",
    "def highestmark(filepath):\n",
    "    l=[]\n",
    "    with open(filepath,'r') as f:\n",
    "        for i in f.readlines():\n",
    "            l.append(int(i))\n",
    "        print(max(l))\n",
    "highestmark(\"DataFiles/marks.txt\")"
   ]
  },
  {
   "cell_type": "code",
   "execution_count": 8,
   "metadata": {},
   "outputs": [
    {
     "name": "stdout",
     "output_type": "stream",
     "text": [
      "9\n"
     ]
    }
   ],
   "source": [
    "# Function to print lowest marks of the student\n",
    "def lowestmark(filepath):\n",
    "    l=[]\n",
    "    with open(filepath,'r') as f:\n",
    "        for i in f.readlines():\n",
    "            l.append(int(i))\n",
    "        print(min(l))\n",
    "lowestmark(\"DataFiles/marks.txt\")"
   ]
  },
  {
   "cell_type": "code",
   "execution_count": 9,
   "metadata": {},
   "outputs": [
    {
     "name": "stdout",
     "output_type": "stream",
     "text": [
      "0 1 2 1 0 1 1 1 0 0 "
     ]
    }
   ],
   "source": [
    "# Frequency count of a given sring\n",
    "def uniquedata(allnum):\n",
    "    u=[]\n",
    "    for n in allnum:\n",
    "        if n not in u:\n",
    "            u.append(n)\n",
    "    return u\n",
    "def fun(s):\n",
    "    allnum=[]\n",
    "    for i in s:\n",
    "        if i.isdigit():\n",
    "            allnum.append(i)\n",
    "    unique=uniquedata(allnum)\n",
    "    for i in range(0,10):\n",
    "        if str(i) not in unique:\n",
    "            print(0,end=\" \")\n",
    "        else:\n",
    "            count=allnum.count(str(i))\n",
    "            print(count,end=\" \")\n",
    "s=\"123abc2567\"\n",
    "fun(s)"
   ]
  },
  {
   "cell_type": "code",
   "execution_count": 10,
   "metadata": {},
   "outputs": [
    {
     "name": "stdout",
     "output_type": "stream",
     "text": [
      "0 1 2 1 0 1 1 1 0 0 "
     ]
    }
   ],
   "source": [
    "s=\"123abc2576\"\n",
    "def digitFrequency(s):\n",
    "    for i in range(0,10):\n",
    "        count=s.count(str(i))\n",
    "        print(count,end=\" \")\n",
    "digitFrequency(s)"
   ]
  },
  {
   "cell_type": "code",
   "execution_count": 11,
   "metadata": {},
   "outputs": [
    {
     "data": {
      "text/plain": [
       "5"
      ]
     },
     "execution_count": 11,
     "metadata": {},
     "output_type": "execute_result"
    }
   ],
   "source": [
    "# Function to check if two strings are anagrams\n",
    "    # aba cba-> True\n",
    "    # aabbcc ccbbaaa -> False\n",
    "    \n",
    "def checkAnagrams(s1,s2):\n",
    "    if len(s1)!=len(s2):\n",
    "        return False\n",
    "    if sorted(s1)==sorted(s2):\n",
    "        return True\n",
    "    return False\n",
    "checkAnagrams(\"abc\",\"bcc\")\n",
    "\n",
    "def charDeletionAnagrams(s1,s2):\n",
    "    uncommon=[]\n",
    "    for i in s1:\n",
    "        if i not in s2:\n",
    "            uncommon.append(i)\n",
    "    for i in s2:\n",
    "        if i not in s1:\n",
    "            uncommon.append(i)\n",
    "    count=len(uncommon)\n",
    "    freqs1={}\n",
    "    freqs2={}\n",
    "    uniqs1=[]\n",
    "    uniqs2=[]\n",
    "    for i in s1:\n",
    "        if i not in uncommon and i not in uniqs1:\n",
    "            freqs1[i]=s1.count(i)\n",
    "            uniqs1.append(i)\n",
    "    for i in s2:\n",
    "        if i not in uncommon and i not in uniqs2:\n",
    "            freqs2[i]=s2.count(i)\n",
    "            uniqs2.append(i)\n",
    "    for key in freqs1.keys():\n",
    "        count+=abs(freqs1[key]-freqs2[key])\n",
    "    return count\n",
    "charDeletionAnagrams(\"abccde\",\"aabcb\")"
   ]
  },
  {
   "cell_type": "code",
   "execution_count": null,
   "metadata": {},
   "outputs": [],
   "source": [
    "# Kth largest frequency\n",
    "\n",
    "def kthlargest(s,k):\n",
    "    # Construct the frequency dictionary for unique characters\n",
    "    freq={}\n",
    "    for i in s:\n",
    "        if i not in freq.keys():\n",
    "            freq[i]=s.count(i)\n",
    "    # Extract unique frequencies in descending order\n",
    "    values=sorted(freq.values(),reverse=True)\n",
    "    uniquevalues=list(set(values))\n",
    "    uniquevalues=sorted(uniquevalues,reverse=True)\n",
    "    \n",
    "    # Identify kth largest frequency \n",
    "    if k<=len(uniquevalues):\n",
    "        kvalue=uniquevalues[k-1]\n",
    "    else:\n",
    "        return -1\n",
    "    # Get all elements with kth largest frequency\n",
    "    li=[]\n",
    "    for item in freq.items():\n",
    "        if item[1]==kvalue:\n",
    "            li.append(item[0])\n",
    "    # min of kth largest frequency\n",
    "    return min(li)\n",
    "kthlargest(\"aabccdc\",3)"
   ]
  },
  {
   "cell_type": "code",
   "execution_count": null,
   "metadata": {},
   "outputs": [],
   "source": [
    "# Function to print average in a given range\n",
    "def average(lb,ub):\n",
    "    sum=0\n",
    "    for i in range(lb,ub+1):\n",
    "        sum=sum+i\n",
    "    count=ub-lb+1\n",
    "    print(sum//count)\n",
    "n=input().split()\n",
    "lb,ub=int(n[0]),int(n[1])\n",
    "average(lb,ub)"
   ]
  },
  {
   "cell_type": "code",
   "execution_count": null,
   "metadata": {},
   "outputs": [],
   "source": []
  },
  {
   "cell_type": "code",
   "execution_count": null,
   "metadata": {},
   "outputs": [],
   "source": []
  },
  {
   "cell_type": "code",
   "execution_count": null,
   "metadata": {},
   "outputs": [],
   "source": []
  }
 ],
 "metadata": {
  "kernelspec": {
   "display_name": "Python 3",
   "language": "python",
   "name": "python3"
  },
  "language_info": {
   "codemirror_mode": {
    "name": "ipython",
    "version": 3
   },
   "file_extension": ".py",
   "mimetype": "text/x-python",
   "name": "python",
   "nbconvert_exporter": "python",
   "pygments_lexer": "ipython3",
   "version": "3.7.3"
  }
 },
 "nbformat": 4,
 "nbformat_minor": 2
}
