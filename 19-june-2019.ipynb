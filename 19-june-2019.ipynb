{
 "cells": [
  {
   "cell_type": "code",
   "execution_count": null,
   "metadata": {},
   "outputs": [],
   "source": [
    "#ali and helping innocent\n",
    "def ali(n,a):\n",
    "    ecount=ocount=0\n",
    "    \n",
    "    for i in range(0,n):\n",
    "        if(int(a[0]+a[1])%2==0 and int(a[3]+a[4])%2==0 and int(a[4]+a[5])%2==0 and int(a[7]+a[8])%2==0):\n",
    "            if(a[2]==\"A\" or a[2]==\"E\" or a[2]==\"I\" or a[2]==\"O\" or a[2]==\"U\" or a[2]==\"Y\"):\n",
    "                ocount+=1\n",
    "            ecount+=1\n",
    "        else:\n",
    "            ocount+=1\n",
    "    if ecount > ocount:\n",
    "        print(\"valid\")\n",
    "    else:\n",
    "        print(\"invalid\")\n",
    "s=input()\n",
    "a=list(s)\n",
    "n=len(s)\n",
    "ali(n,a)\n",
    "\n"
   ]
  },
  {
   "cell_type": "code",
   "execution_count": 10,
   "metadata": {},
   "outputs": [
    {
     "name": "stdout",
     "output_type": "stream",
     "text": [
      "13X357-21\n",
      "invalid\n"
     ]
    }
   ],
   "source": [
    "def ali(n):\n",
    "    \n",
    "    \n",
    "    for i in range(1,n):\n",
    "        if (int(a[0])+int(a[1]))%2==0 and (int(a[3])+int(a[4]))%2==0 and (int(a[4])+int(a[5]))%2==0 and (int(a[7])+int(a[8]))%2==0:\n",
    "            if(a[2]==\"A\" or a[2]==\"E\" or a[2]==\"I\" or a[2]==\"O\" or a[2]==\"U\" or a[2]==\"Y\"):\n",
    "                print(\"invalid\")\n",
    "            else:\n",
    "                print(\"valid\")\n",
    "        else:\n",
    "            print(\"invalid\")\n",
    "        break       \n",
    "s=input()\n",
    "a=list(s)\n",
    "n=len(s)\n",
    "ali(n)\n"
   ]
  },
  {
   "cell_type": "code",
   "execution_count": 6,
   "metadata": {},
   "outputs": [
    {
     "name": "stdout",
     "output_type": "stream",
     "text": [
      "12x345-67\n"
     ]
    },
    {
     "data": {
      "text/plain": [
       "False"
      ]
     },
     "execution_count": 6,
     "metadata": {},
     "output_type": "execute_result"
    }
   ],
   "source": [
    "s=input()\n",
    "a=list(s)\n",
    "int(a[0])+int(a[1])%2==0"
   ]
  },
  {
   "cell_type": "code",
   "execution_count": null,
   "metadata": {},
   "outputs": [],
   "source": [
    "\n",
    "def seating(n):\n",
    "    if n%6==0 or n%6==1:\n",
    "        print(n,\"WS\")\n",
    "    elif n%6==2 or n%6==5:\n",
    "        print(n,\"MS\")\n",
    "    else :\n",
    "        print(n,\"AS\")\n",
    "t=int(input())\n",
    "for i in range(0,t):\n",
    "    n=int(input())\n",
    "    s=n%12\n",
    "    if s==0:\n",
    "        n-=11\n",
    "    elif s<7:\n",
    "        n+=(2*(6-s)+1)\n",
    "    else:\n",
    "        n-=(2*(s-7)+1)\n",
    "    seating(n)\n",
    "            \n",
    "        \n",
    "            "
   ]
  },
  {
   "cell_type": "code",
   "execution_count": 2,
   "metadata": {},
   "outputs": [
    {
     "name": "stdout",
     "output_type": "stream",
     "text": [
      "hello kirti\n"
     ]
    }
   ],
   "source": [
    "#hello kirti\n",
    "def hello_kirti():\n",
    "    print(\"hello kirti\")\n",
    "hello_kirti()\n"
   ]
  },
  {
   "cell_type": "code",
   "execution_count": null,
   "metadata": {},
   "outputs": [
    {
     "name": "stdout",
     "output_type": "stream",
     "text": [
      "5\n",
      "100\n",
      "40\n",
      "NO\n",
      "120\n",
      "YES\n"
     ]
    }
   ],
   "source": [
    "#goki breakup\n",
    "N=int(input())\n",
    "X=int(input())\n",
    "for Y in range(0,N):\n",
    "    Y=int(input())\n",
    "    if(X<=Y):\n",
    "        print(\"YES\")\n",
    "    else:\n",
    "        print(\"NO\")\n",
    "            \n",
    "    "
   ]
  },
  {
   "cell_type": "code",
   "execution_count": 16,
   "metadata": {},
   "outputs": [
    {
     "name": "stdout",
     "output_type": "stream",
     "text": [
      "2\n",
      "3\n",
      "A\n",
      "A\n",
      "A\n"
     ]
    }
   ],
   "source": [
    "#lift quires\n",
    "T=int(input())\n",
    "X=int(input())\n",
    "li=[0,1,2,3,4,5,6]\n",
    "for i in range(0,T+1):\n",
    "    if X in li[0:3] or X==(len(li))//2:\n",
    "        print(\"A\")\n",
    "    else:\n",
    "        print(\"B\")\n"
   ]
  },
  {
   "cell_type": "markdown",
   "metadata": {},
   "source": [
    "#####         \n"
   ]
  },
  {
   "cell_type": "code",
   "execution_count": 4,
   "metadata": {},
   "outputs": [
    {
     "ename": "SyntaxError",
     "evalue": "unexpected EOF while parsing (<ipython-input-4-8fe364b408b2>, line 6)",
     "output_type": "error",
     "traceback": [
      "\u001b[1;36m  File \u001b[1;32m\"<ipython-input-4-8fe364b408b2>\"\u001b[1;36m, line \u001b[1;32m6\u001b[0m\n\u001b[1;33m    if(li[n] in li[0:3]):\u001b[0m\n\u001b[1;37m                         ^\u001b[0m\n\u001b[1;31mSyntaxError\u001b[0m\u001b[1;31m:\u001b[0m unexpected EOF while parsing\n"
     ]
    }
   ],
   "source": [
    "li=[1,2,3,4,5,6,7]\n",
    "t=int(input())\n",
    "n=int(input()) \n",
    "for i in range():\n",
    "    for j in range():\n",
    "        if(li[n] in li[0:3]):"
   ]
  },
  {
   "cell_type": "code",
   "execution_count": 5,
   "metadata": {},
   "outputs": [
    {
     "name": "stdout",
     "output_type": "stream",
     "text": [
      "1\n",
      "cde\n",
      "abc\n"
     ]
    },
    {
     "ename": "TypeError",
     "evalue": "unsupported operand type(s) for -: 'str' and 'int'",
     "output_type": "error",
     "traceback": [
      "\u001b[1;31m---------------------------------------------------------------------------\u001b[0m",
      "\u001b[1;31mTypeError\u001b[0m                                 Traceback (most recent call last)",
      "\u001b[1;32m<ipython-input-5-502fb67dab8c>\u001b[0m in \u001b[0;36m<module>\u001b[1;34m\u001b[0m\n\u001b[0;32m     15\u001b[0m         \u001b[0ma\u001b[0m\u001b[1;33m=\u001b[0m\u001b[0minput\u001b[0m\u001b[1;33m(\u001b[0m\u001b[1;33m)\u001b[0m\u001b[1;33m\u001b[0m\u001b[1;33m\u001b[0m\u001b[0m\n\u001b[0;32m     16\u001b[0m         \u001b[0mb\u001b[0m\u001b[1;33m=\u001b[0m\u001b[0minput\u001b[0m\u001b[1;33m(\u001b[0m\u001b[1;33m)\u001b[0m\u001b[1;33m\u001b[0m\u001b[1;33m\u001b[0m\u001b[0m\n\u001b[1;32m---> 17\u001b[1;33m         \u001b[0managrams\u001b[0m\u001b[1;33m(\u001b[0m\u001b[0ma\u001b[0m\u001b[1;33m,\u001b[0m\u001b[0mb\u001b[0m\u001b[1;33m)\u001b[0m\u001b[1;33m\u001b[0m\u001b[1;33m\u001b[0m\u001b[0m\n\u001b[0m",
      "\u001b[1;32m<ipython-input-5-502fb67dab8c>\u001b[0m in \u001b[0;36managrams\u001b[1;34m(a, b)\u001b[0m\n\u001b[0;32m      3\u001b[0m     \u001b[0ml2\u001b[0m\u001b[1;33m=\u001b[0m\u001b[1;33m[\u001b[0m\u001b[1;36m0\u001b[0m\u001b[1;33m]\u001b[0m\u001b[1;33m*\u001b[0m\u001b[1;36m26\u001b[0m\u001b[1;33m\u001b[0m\u001b[1;33m\u001b[0m\u001b[0m\n\u001b[0;32m      4\u001b[0m     \u001b[1;32mfor\u001b[0m \u001b[0mi\u001b[0m \u001b[1;32min\u001b[0m \u001b[0mrange\u001b[0m\u001b[1;33m(\u001b[0m\u001b[1;36m0\u001b[0m\u001b[1;33m,\u001b[0m\u001b[0mlen\u001b[0m\u001b[1;33m(\u001b[0m\u001b[0ma\u001b[0m\u001b[1;33m)\u001b[0m\u001b[1;33m)\u001b[0m\u001b[1;33m:\u001b[0m\u001b[1;33m\u001b[0m\u001b[1;33m\u001b[0m\u001b[0m\n\u001b[1;32m----> 5\u001b[1;33m         \u001b[0ml1\u001b[0m\u001b[1;33m[\u001b[0m\u001b[0mord\u001b[0m\u001b[1;33m(\u001b[0m\u001b[0ma\u001b[0m\u001b[1;33m[\u001b[0m\u001b[0mi\u001b[0m\u001b[1;33m]\u001b[0m\u001b[1;33m-\u001b[0m\u001b[1;36m97\u001b[0m\u001b[1;33m)\u001b[0m\u001b[1;33m]\u001b[0m\u001b[1;33m=\u001b[0m\u001b[0ml1\u001b[0m\u001b[1;33m[\u001b[0m\u001b[0mord\u001b[0m\u001b[1;33m(\u001b[0m\u001b[0ma\u001b[0m\u001b[1;33m[\u001b[0m\u001b[0mi\u001b[0m\u001b[1;33m]\u001b[0m\u001b[1;33m)\u001b[0m\u001b[1;33m-\u001b[0m\u001b[1;36m97\u001b[0m\u001b[1;33m]\u001b[0m\u001b[1;33m+\u001b[0m\u001b[1;36m1\u001b[0m\u001b[1;33m\u001b[0m\u001b[1;33m\u001b[0m\u001b[0m\n\u001b[0m\u001b[0;32m      6\u001b[0m     \u001b[1;32mfor\u001b[0m \u001b[0mi\u001b[0m \u001b[1;32min\u001b[0m \u001b[0mrange\u001b[0m\u001b[1;33m(\u001b[0m\u001b[1;36m0\u001b[0m\u001b[1;33m,\u001b[0m\u001b[0mlen\u001b[0m\u001b[1;33m(\u001b[0m\u001b[0mb\u001b[0m\u001b[1;33m)\u001b[0m\u001b[1;33m)\u001b[0m\u001b[1;33m:\u001b[0m\u001b[1;33m\u001b[0m\u001b[1;33m\u001b[0m\u001b[0m\n\u001b[0;32m      7\u001b[0m         \u001b[0ml2\u001b[0m\u001b[1;33m[\u001b[0m\u001b[0mord\u001b[0m\u001b[1;33m(\u001b[0m\u001b[0mb\u001b[0m\u001b[1;33m[\u001b[0m\u001b[0mi\u001b[0m\u001b[1;33m]\u001b[0m\u001b[1;33m)\u001b[0m\u001b[1;33m-\u001b[0m\u001b[1;36m97\u001b[0m\u001b[1;33m]\u001b[0m\u001b[1;33m=\u001b[0m\u001b[0ml2\u001b[0m\u001b[1;33m[\u001b[0m\u001b[0mord\u001b[0m\u001b[1;33m(\u001b[0m\u001b[0mb\u001b[0m\u001b[1;33m[\u001b[0m\u001b[0mi\u001b[0m\u001b[1;33m]\u001b[0m\u001b[1;33m)\u001b[0m\u001b[1;33m-\u001b[0m\u001b[1;36m97\u001b[0m\u001b[1;33m]\u001b[0m\u001b[1;33m+\u001b[0m\u001b[1;36m1\u001b[0m\u001b[1;33m\u001b[0m\u001b[1;33m\u001b[0m\u001b[0m\n",
      "\u001b[1;31mTypeError\u001b[0m: unsupported operand type(s) for -: 'str' and 'int'"
     ]
    }
   ],
   "source": [
    "def anagrams(a,b):\n",
    "    l1=[0]*26\n",
    "    l2=[0]*26\n",
    "    for i in range(0,len(a)):\n",
    "        l1[ord(a[i]-97)]=l1[ord(a[i])-97]+1\n",
    "    for i in range(0,len(b)):\n",
    "        l2[ord(b[i])-97]=l2[ord(b[i])-97]+1\n",
    "        \n",
    "    count=0\n",
    "    for i in range(0,26):\n",
    "        count=count+abs(l1[i]-l2[i])\n",
    "    print(count)\n",
    "t=int(input())\n",
    "for i in range(0,t):\n",
    "        a=input()\n",
    "        b=input()\n",
    "        anagrams(a,b)"
   ]
  },
  {
   "cell_type": "code",
   "execution_count": 7,
   "metadata": {},
   "outputs": [
    {
     "ename": "IndentationError",
     "evalue": "unexpected indent (<ipython-input-7-090648f78b53>, line 4)",
     "output_type": "error",
     "traceback": [
      "\u001b[1;36m  File \u001b[1;32m\"<ipython-input-7-090648f78b53>\"\u001b[1;36m, line \u001b[1;32m4\u001b[0m\n\u001b[1;33m    for i in range(1,t+1):\u001b[0m\n\u001b[1;37m    ^\u001b[0m\n\u001b[1;31mIndentationError\u001b[0m\u001b[1;31m:\u001b[0m unexpected indent\n"
     ]
    }
   ],
   "source": [
    "li=[1,2,3,4,5,6,7]\n",
    "t=int(input())\n",
    "n=int(input())\n",
    "    for i in range(1,t+1):\n",
    "        for i in range(1,n+1):\n",
    "        if(li[x] in li[0:3]):\n",
    "            if x==len(li)//2:\n",
    "                print(\"A\")\n",
    "        else:\n",
    "            print(\"B\")\n",
    "    else:\n",
    "        print(\"A\")"
   ]
  },
  {
   "cell_type": "code",
   "execution_count": 2,
   "metadata": {},
   "outputs": [
    {
     "name": "stdout",
     "output_type": "stream",
     "text": [
      "enter the lenght400\n",
      "enter the no of photos3\n",
      "enter the width400\n",
      "enter the height400\n",
      "upload\n"
     ]
    }
   ],
   "source": [
    "l=input(\"enter the lenght\")\n",
    "n=input(\"enter the no of photos\")\n",
    "w=input(\"enter the width\")\n",
    "h=input(\"enter the height\")\n",
    "if l>=w and l<=h:\n",
    "    print(\"upload\")\n",
    "elif l<=w and l<=h:\n",
    "    print(\"accepted\")\n",
    "else:\n",
    "    print(\"crop it\")\n",
    "            \n",
    "        "
   ]
  },
  {
   "cell_type": "code",
   "execution_count": 5,
   "metadata": {},
   "outputs": [
    {
     "name": "stdout",
     "output_type": "stream",
     "text": [
      "enter a number1\n",
      "enter b number2\n",
      "enter c number3\n",
      "c\n"
     ]
    }
   ],
   "source": [
    "a=int(input(\"enter a number\"))\n",
    "b=int(input(\"enter b number\"))\n",
    "c=int(input(\"enter c number\"))\n",
    "if(a>b and a>c):\n",
    "    print(\"a\")\n",
    "elif(b>a and b>c):\n",
    "    print(\"b\")\n",
    "else:\n",
    "    print(\"c\")"
   ]
  },
  {
   "cell_type": "code",
   "execution_count": 7,
   "metadata": {},
   "outputs": [
    {
     "name": "stdout",
     "output_type": "stream",
     "text": [
      "enter your age18\n",
      "you are eligible to vote\n"
     ]
    }
   ],
   "source": [
    "a=int(input(\"enter your age\"))\n",
    "if(a>=18):\n",
    "    print(\"you are eligible to vote\")\n",
    "else:\n",
    "    print(\"you are not eligible to vote\")"
   ]
  },
  {
   "cell_type": "code",
   "execution_count": 12,
   "metadata": {},
   "outputs": [
    {
     "name": "stdout",
     "output_type": "stream",
     "text": [
      "18\n",
      "eligible\n"
     ]
    }
   ],
   "source": [
    "def vote(a):\n",
    "    a=int(input())\n",
    "    if(a>=18):\n",
    "        print(\"eligible\")\n",
    "    else:\n",
    "        print(\"not eligible\")\n",
    "vote(a)"
   ]
  },
  {
   "cell_type": "code",
   "execution_count": 17,
   "metadata": {},
   "outputs": [
    {
     "name": "stdout",
     "output_type": "stream",
     "text": [
      "30\n",
      "n equal ot 30\n"
     ]
    }
   ],
   "source": [
    "n=int(input())\n",
    "if n==50:\n",
    "    print(\"n equal to 50\")\n",
    "elif n==10:\n",
    "    print(\"n equal to 10\")\n",
    "elif n==20:\n",
    "    print(\"n equal to 20\")\n",
    "else:\n",
    "    n==30\n",
    "    print(\"n equal ot 30\")\n",
    "    "
   ]
  },
  {
   "cell_type": "code",
   "execution_count": 18,
   "metadata": {},
   "outputs": [
    {
     "name": "stdout",
     "output_type": "stream",
     "text": [
      "39\n",
      "your score is fail\n"
     ]
    }
   ],
   "source": [
    "n=int(input())\n",
    "if n<=100 and n>=85:\n",
    "    print(\"congrats your score is A\")\n",
    "if n<=85 and n>=60:\n",
    "    print(\"your score is B\")\n",
    "if n<=60 and n>=40:\n",
    "    print(\"your score is C\")\n",
    "else:\n",
    "    print(\"your score is fail\")"
   ]
  },
  {
   "cell_type": "code",
   "execution_count": 1,
   "metadata": {},
   "outputs": [
    {
     "name": "stdout",
     "output_type": "stream",
     "text": [
      "10\n",
      " 10 x 1 = 10\n",
      " 10 x 2 = 20\n",
      " 10 x 3 = 30\n",
      " 10 x 4 = 40\n",
      " 10 x 5 = 50\n",
      " 10 x 6 = 60\n",
      " 10 x 7 = 70\n",
      " 10 x 8 = 80\n",
      " 10 x 9 = 90\n",
      " 10 x 10 = 100\n"
     ]
    }
   ],
   "source": [
    "i=1\n",
    "n=int(input())\n",
    "while i<=10:\n",
    "    print(\"% d x %d = %d\"%(n,i,n*i))\n",
    "    i=i+1"
   ]
  },
  {
   "cell_type": "code",
   "execution_count": 8,
   "metadata": {},
   "outputs": [
    {
     "name": "stdout",
     "output_type": "stream",
     "text": [
      "10\n",
      " 10 X  1 =  10\n",
      " 10 X  2 =  20\n",
      " 10 X  3 =  30\n",
      " 10 X  4 =  40\n",
      " 10 X  5 =  50\n",
      " 10 X  6 =  60\n",
      " 10 X  7 =  70\n",
      " 10 X  8 =  80\n",
      " 10 X  9 =  90\n",
      " 10 X  10 =  100\n"
     ]
    }
   ],
   "source": [
    "i=1\n",
    "n=int(input())\n",
    "for i in range(1,11):\n",
    "    print(\"% d X % d = % d\"%(n,i,n*i))"
   ]
  },
  {
   "cell_type": "code",
   "execution_count": 36,
   "metadata": {},
   "outputs": [
    {
     "name": "stdout",
     "output_type": "stream",
     "text": [
      "5\n",
      "\n",
      "* \n",
      "* * \n",
      "* * * \n",
      "* * * * "
     ]
    }
   ],
   "source": [
    "n=int(input())\n",
    "i,j=0,0\n",
    "for i in range(0,n):\n",
    "    print()\n",
    "    for j in range(0,i+1):\n",
    "        print(\"*\",end=\" \")\n"
   ]
  },
  {
   "cell_type": "code",
   "execution_count": 40,
   "metadata": {},
   "outputs": [
    {
     "name": "stdout",
     "output_type": "stream",
     "text": [
      "1\n",
      "2\n",
      "3\n",
      "4\n",
      "5\n",
      "6\n",
      "7\n",
      "8\n",
      "9\n",
      "10\n"
     ]
    }
   ],
   "source": [
    "i=1\n",
    "while i<=10:\n",
    "    print(i)\n",
    "    i=i+1"
   ]
  },
  {
   "cell_type": "code",
   "execution_count": null,
   "metadata": {},
   "outputs": [],
   "source": []
  }
 ],
 "metadata": {
  "kernelspec": {
   "display_name": "Python 3",
   "language": "python",
   "name": "python3"
  },
  "language_info": {
   "codemirror_mode": {
    "name": "ipython",
    "version": 3
   },
   "file_extension": ".py",
   "mimetype": "text/x-python",
   "name": "python",
   "nbconvert_exporter": "python",
   "pygments_lexer": "ipython3",
   "version": "3.7.3"
  }
 },
 "nbformat": 4,
 "nbformat_minor": 2
}
