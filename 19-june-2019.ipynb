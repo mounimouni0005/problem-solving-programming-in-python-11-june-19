{
 "cells": [
  {
   "cell_type": "code",
   "execution_count": null,
   "metadata": {},
   "outputs": [],
   "source": [
    "#ali and helping innocent\n",
    "def ali(n,a):\n",
    "    ecount=ocount=0\n",
    "    \n",
    "    for i in range(0,n):\n",
    "        if(int(a[0]+a[1])%2==0 and int(a[3]+a[4])%2==0 and int(a[4]+a[5])%2==0 and int(a[7]+a[8])%2==0):\n",
    "            if(a[2]==\"A\" or a[2]==\"E\" or a[2]==\"I\" or a[2]==\"O\" or a[2]==\"U\" or a[2]==\"Y\"):\n",
    "                ocount+=1\n",
    "            ecount+=1\n",
    "        else:\n",
    "            ocount+=1\n",
    "    if ecount > ocount:\n",
    "        print(\"valid\")\n",
    "    else:\n",
    "        print(\"invalid\")\n",
    "s=input()\n",
    "a=list(s)\n",
    "n=len(s)\n",
    "ali(n,a)\n",
    "\n"
   ]
  },
  {
   "cell_type": "code",
   "execution_count": 10,
   "metadata": {},
   "outputs": [
    {
     "name": "stdout",
     "output_type": "stream",
     "text": [
      "13X357-21\n",
      "invalid\n"
     ]
    }
   ],
   "source": [
    "def ali(n):\n",
    "    \n",
    "    \n",
    "    for i in range(1,n):\n",
    "        if (int(a[0])+int(a[1]))%2==0 and (int(a[3])+int(a[4]))%2==0 and (int(a[4])+int(a[5]))%2==0 and (int(a[7])+int(a[8]))%2==0:\n",
    "            if(a[2]==\"A\" or a[2]==\"E\" or a[2]==\"I\" or a[2]==\"O\" or a[2]==\"U\" or a[2]==\"Y\"):\n",
    "                print(\"invalid\")\n",
    "            else:\n",
    "                print(\"valid\")\n",
    "        else:\n",
    "            print(\"invalid\")\n",
    "        break       \n",
    "s=input()\n",
    "a=list(s)\n",
    "n=len(s)\n",
    "ali(n)\n"
   ]
  },
  {
   "cell_type": "code",
   "execution_count": 6,
   "metadata": {},
   "outputs": [
    {
     "name": "stdout",
     "output_type": "stream",
     "text": [
      "12x345-67\n"
     ]
    },
    {
     "data": {
      "text/plain": [
       "False"
      ]
     },
     "execution_count": 6,
     "metadata": {},
     "output_type": "execute_result"
    }
   ],
   "source": [
    "s=input()\n",
    "a=list(s)\n",
    "int(a[0])+int(a[1])%2==0"
   ]
  },
  {
   "cell_type": "code",
   "execution_count": null,
   "metadata": {},
   "outputs": [],
   "source": [
    "\n",
    "def seating(n):\n",
    "    if n%6==0 or n%6==1:\n",
    "        print(n,\"WS\")\n",
    "    elif n%6==2 or n%6==5:\n",
    "        print(n,\"MS\")\n",
    "    else :\n",
    "        print(n,\"AS\")\n",
    "t=int(input())\n",
    "for i in range(0,t):\n",
    "    n=int(input())\n",
    "    s=n%12\n",
    "    if s==0:\n",
    "        n-=11\n",
    "    elif s<7:\n",
    "        n+=(2*(6-s)+1)\n",
    "    else:\n",
    "        n-=(2*(s-7)+1)\n",
    "    seating(n)\n",
    "            \n",
    "        \n",
    "            "
   ]
  },
  {
   "cell_type": "code",
   "execution_count": 2,
   "metadata": {},
   "outputs": [
    {
     "name": "stdout",
     "output_type": "stream",
     "text": [
      "hello kirti\n"
     ]
    }
   ],
   "source": [
    "#hello kirti\n",
    "def hello_kirti():\n",
    "    print(\"hello kirti\")\n",
    "hello_kirti()\n"
   ]
  },
  {
   "cell_type": "code",
   "execution_count": null,
   "metadata": {},
   "outputs": [],
   "source": []
  }
 ],
 "metadata": {
  "kernelspec": {
   "display_name": "Python 3",
   "language": "python",
   "name": "python3"
  },
  "language_info": {
   "codemirror_mode": {
    "name": "ipython",
    "version": 3
   },
   "file_extension": ".py",
   "mimetype": "text/x-python",
   "name": "python",
   "nbconvert_exporter": "python",
   "pygments_lexer": "ipython3",
   "version": "3.7.3"
  }
 },
 "nbformat": 4,
 "nbformat_minor": 2
}
