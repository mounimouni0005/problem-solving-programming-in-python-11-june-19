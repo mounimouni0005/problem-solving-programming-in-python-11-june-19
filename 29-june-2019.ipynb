{
 "cells": [
  {
   "cell_type": "code",
   "execution_count": null,
   "metadata": {},
   "outputs": [],
   "source": [
    "\n",
    "#1. Print given characters as a word with starting character capital form and remaining lower\n",
    "#A P S S D C\n",
    "#Apssdc\n",
    "characters=input()\n",
    "char1=characters.capitalize()\n",
    "char2=char1.replace(\" \",\"\")\n",
    "print(char2)\n",
    "\n"
   ]
  },
  {
   "cell_type": "code",
   "execution_count": null,
   "metadata": {},
   "outputs": [],
   "source": [
    "#Another way for appssdc\n",
    "cha1=input()\n",
    "char2=cha1.capitalize()\n",
    "char3=\"\".join(char2)\n",
    "print(char3)"
   ]
  },
  {
   "cell_type": "code",
   "execution_count": null,
   "metadata": {},
   "outputs": [],
   "source": [
    "#2. Print the maximum length word of given words\n",
    "#Hai hello world\n",
    "#hello\n",
    "#world\n",
    "givenword=input().split()\n",
    "max_length=max(list(map(len,givenword)))\n",
    "for word in givenword:\n",
    "    if(max_length==len(word)):\n",
    "        print(word)\n",
    "\n",
    "\n"
   ]
  },
  {
   "cell_type": "code",
   "execution_count": null,
   "metadata": {},
   "outputs": [],
   "source": [
    "#3. Print all the words which starts with the given character, If no words matches with the given condition you should print -1\n",
    "#ramu ravi balu\n",
    "#r\n",
    "#ramu\n",
    "#ravi\n",
    "words=input().split()\n",
    "r=input()\n",
    "match=0\n",
    "for word in words:\n",
    "    if word.startswith(r):\n",
    "        print(word)\n",
    "        match+=1\n",
    "if match==0:\n",
    "    print(-1)\n",
    "    \n"
   ]
  },
  {
   "cell_type": "code",
   "execution_count": null,
   "metadata": {},
   "outputs": [],
   "source": [
    "4. Print all the words which words not ends with vowels(a,e,i,o,u)\n",
    "ramu ravi balu raju mahesh\n",
    "mahesh\n"
   ]
  },
  {
   "cell_type": "code",
   "execution_count": null,
   "metadata": {},
   "outputs": [],
   "source": [
    "#5. Print all the words which word contains duplicate characters\n",
    "#ramu akash balu\n",
    "#akash\n",
    "words=input().split()\n",
    "for word in words:\n",
    "      for ch in word:\n",
    "            if(word.count(ch)>1):\n",
    "                print(word)\n",
    "                break\n",
    "        "
   ]
  },
  {
   "cell_type": "code",
   "execution_count": null,
   "metadata": {},
   "outputs": [],
   "source": [
    "#6. Swap the case of all characters in given string except last character\n",
    "#HellowOrl\n",
    "#hELLOWoRLd\n",
    "word=input()\n",
    "word1=word.swapcase()\n",
    "print(word1[0:-1]+\"\".join(word[-1]))\n"
   ]
  },
  {
   "cell_type": "code",
   "execution_count": null,
   "metadata": {},
   "outputs": [],
   "source": [
    "#7. Print the number of words in a given string (here word starting character contains UPPER letter)\n",
    "#HelloWorld\n",
    "#2\n",
    "words=input()\n",
    "count=0\n",
    "for word in words:\n",
    "    if(word.isupper()):\n",
    "        count+=1\n",
    "print(count)"
   ]
  },
  {
   "cell_type": "code",
   "execution_count": null,
   "metadata": {},
   "outputs": [],
   "source": [
    "8. Print the number of digits, alphabets and any other \n",
    "www.way2sms.com\n",
    "DIGITS 1\n",
    "ALPHABETS  12\n",
    "OTHER 2\n"
   ]
  },
  {
   "cell_type": "code",
   "execution_count": 3,
   "metadata": {},
   "outputs": [
    {
     "name": "stdout",
     "output_type": "stream",
     "text": [
      "10\n",
      "even number----> 2 4 6 8 10 \n",
      "odd number----> 1 3 5 7 9 "
     ]
    }
   ],
   "source": [
    "### 1.Print even and odd numbers up to given range.\n",
    "\n",
    "#### input : 10 \n",
    "#### output:\n",
    "#### even numbers -->  2,4,6,8,10\n",
    "#### odd numbers --> 1,3,5,7,9\n",
    "n=int(input())\n",
    "print(\"even number---->\",end=\" \")\n",
    "for i in range(1,n+1):\n",
    "    if i%2==0:\n",
    "        print(i,end=\" \")\n",
    "print(\"\")\n",
    "print(\"odd number---->\",end=\" \")\n",
    "for j in range(1,n+1):\n",
    "    if j%2!=0:\n",
    "        print(j,end=\" \")\n",
    "        \n",
    "        \n",
    "            \n",
    "    \n"
   ]
  },
  {
   "cell_type": "code",
   "execution_count": null,
   "metadata": {},
   "outputs": [],
   "source": [
    "### 2.print given numbers prime or not.\n",
    "\n",
    "#### input: --> 5 9\n",
    "#### output: -->5  True\n",
    "####                   9   False\n"
   ]
  },
  {
   "cell_type": "code",
   "execution_count": null,
   "metadata": {},
   "outputs": [],
   "source": [
    "### 3.Print second Max Ex: 12 34 23 45 65 o/p:45\n",
    "\n",
    "### 3. Print prime numbers up to given range. --> input: 10 output: 2 3 5 7\n"
   ]
  },
  {
   "cell_type": "code",
   "execution_count": null,
   "metadata": {},
   "outputs": [
    {
     "name": "stdout",
     "output_type": "stream",
     "text": [
      "2\n",
      "5\n",
      "1\n"
     ]
    }
   ],
   "source": [
    "### 4.Print factorial of a given number if it is a prime otherwise print power of the value.\n",
    "\n",
    "#### test cases : 2\n",
    "#### 5  --> 120\n",
    "#### 4 --> 16\n",
    "n=int(input())\n",
    "for i in range(1,n+1):\n",
    "    a=int(input())\n",
    "    fact=1\n",
    "    for J in range(1,n+1):\n",
    "        fact*=i\n",
    "    print(fact)\n",
    "\n"
   ]
  },
  {
   "cell_type": "code",
   "execution_count": null,
   "metadata": {},
   "outputs": [],
   "source": [
    "n=int(input())\n",
    "for i in range(1,n+1):\n",
    "    a=int(input())\n",
    "    fact=1\n",
    "    for j in range(1,a+1):\n",
    "        fact*=i\n",
    "print(fact) \n"
   ]
  },
  {
   "cell_type": "code",
   "execution_count": null,
   "metadata": {},
   "outputs": [],
   "source": [
    "\n",
    "### 5.print count and sum of digits in a given string \n",
    "\n",
    "#### test cases: 2\n",
    "#### 5 ---> 1 5\n",
    "#### 3 5 7 2 3  ---> 5 20\n",
    "t=int(input())\n",
    "for i in range(1,t+1):\n",
    "    a=input().split()\n",
    "    \n"
   ]
  },
  {
   "cell_type": "code",
   "execution_count": null,
   "metadata": {},
   "outputs": [],
   "source": [
    "\n",
    "### 6.Print factorial of a value if the length of a string is  prime otherwise print string in reverse\n",
    "\n",
    "#### test cases : 3\n",
    "\n",
    "#### b --> 1 \n",
    "#### hello -->120\n",
    "#### hello python ->nohtyp olleh\n"
   ]
  },
  {
   "cell_type": "code",
   "execution_count": 4,
   "metadata": {},
   "outputs": [
    {
     "name": "stdout",
     "output_type": "stream",
     "text": [
      "1011011\n",
      "0101101\n",
      "2\n"
     ]
    }
   ],
   "source": [
    "#s=101101\n",
    "m=input()\n",
    "s=input()\n",
    "count=0\n",
    "for i in range(len(m)):\n",
    "    if m[i]==s[i]:\n",
    "        count+=1\n",
    "print(count)\n",
    "    \n",
    "    "
   ]
  },
  {
   "cell_type": "code",
   "execution_count": 7,
   "metadata": {},
   "outputs": [
    {
     "name": "stdout",
     "output_type": "stream",
     "text": [
      "mahesh\n",
      "1 3\n",
      "hamesh\n"
     ]
    }
   ],
   "source": [
    "#Mahesh\n",
    "#1 3\n",
    "#o/p:haMesh\n",
    "s=input()\n",
    "li=list(map(int,input().split()))\n",
    "s1=\"\"\n",
    "s2=s[li[0]-1:li[1]]\n",
    "s2=s2[::-1]\n",
    "for ch in s[li[1]:]:\n",
    "    s2+=ch\n",
    "print(s2)"
   ]
  },
  {
   "cell_type": "markdown",
   "metadata": {},
   "source": [
    "### tuples:"
   ]
  },
  {
   "cell_type": "code",
   "execution_count": 9,
   "metadata": {},
   "outputs": [
    {
     "data": {
      "text/plain": [
       "3"
      ]
     },
     "execution_count": 9,
     "metadata": {},
     "output_type": "execute_result"
    }
   ],
   "source": [
    "#t=()or tuple()\n",
    "t=(12,\"sdc\",12.34)\n",
    "t[0]\n",
    "len(t)"
   ]
  },
  {
   "cell_type": "code",
   "execution_count": 15,
   "metadata": {},
   "outputs": [
    {
     "data": {
      "text/plain": [
       "1"
      ]
     },
     "execution_count": 15,
     "metadata": {},
     "output_type": "execute_result"
    }
   ],
   "source": [
    "t.count(12)\n",
    "t.index(\"sdc\")"
   ]
  },
  {
   "cell_type": "markdown",
   "metadata": {},
   "source": [
    "### dictionary"
   ]
  },
  {
   "cell_type": "code",
   "execution_count": 16,
   "metadata": {},
   "outputs": [
    {
     "data": {
      "text/plain": [
       "tuple"
      ]
     },
     "execution_count": 16,
     "metadata": {},
     "output_type": "execute_result"
    }
   ],
   "source": [
    "mylist=()\n",
    "type(mylist)"
   ]
  },
  {
   "cell_type": "code",
   "execution_count": 17,
   "metadata": {},
   "outputs": [
    {
     "name": "stdout",
     "output_type": "stream",
     "text": [
      "{'name': 'mouni', 'branch': 'cse'} <class 'dict'>\n"
     ]
    }
   ],
   "source": [
    "words={\"name\":\"mouni\",\"branch\":\"cse\"}\n",
    "print(words,type(words))"
   ]
  },
  {
   "cell_type": "code",
   "execution_count": 21,
   "metadata": {},
   "outputs": [
    {
     "name": "stdout",
     "output_type": "stream",
     "text": [
      "cse\n"
     ]
    }
   ],
   "source": [
    "print(words[\"branch\"])"
   ]
  },
  {
   "cell_type": "code",
   "execution_count": 22,
   "metadata": {},
   "outputs": [
    {
     "name": "stdout",
     "output_type": "stream",
     "text": [
      "{'name': 'mouni', 'branch': 'cse'}\n"
     ]
    }
   ],
   "source": [
    "words={\"name\":\"ayyappa\",\"branch\":\"cse\",\"name\":\"mouni\"}\n",
    "print(words)"
   ]
  },
  {
   "cell_type": "code",
   "execution_count": 26,
   "metadata": {},
   "outputs": [
    {
     "name": "stdout",
     "output_type": "stream",
     "text": [
      "{'name': ['ayyappa', 'lakshmi'], 'branch': 'cse'}\n",
      "['ayyappa', 'lakshmi']\n",
      "lakshmi\n",
      "s\n"
     ]
    }
   ],
   "source": [
    "words={\"name\":[\"ayyappa\",\"lakshmi\"],\"branch\":\"cse\"}\n",
    "print(words)\n",
    "print(words[\"name\"])\n",
    "print(words[\"name\"][1])\n",
    "print(words[\"branch\"][1])"
   ]
  },
  {
   "cell_type": "code",
   "execution_count": 33,
   "metadata": {},
   "outputs": [
    {
     "name": "stdout",
     "output_type": "stream",
     "text": [
      "name -----> ['ayyappa', 'lakshmi']\n",
      "branch -----> cse\n"
     ]
    }
   ],
   "source": [
    "for key in words:\n",
    "    print(key,\"----->\",words[key])"
   ]
  },
  {
   "cell_type": "markdown",
   "metadata": {},
   "source": [
    "### methods in dictionary"
   ]
  },
  {
   "cell_type": "code",
   "execution_count": 34,
   "metadata": {},
   "outputs": [
    {
     "data": {
      "text/plain": [
       "['__class__',\n",
       " '__contains__',\n",
       " '__delattr__',\n",
       " '__delitem__',\n",
       " '__dir__',\n",
       " '__doc__',\n",
       " '__eq__',\n",
       " '__format__',\n",
       " '__ge__',\n",
       " '__getattribute__',\n",
       " '__getitem__',\n",
       " '__gt__',\n",
       " '__hash__',\n",
       " '__init__',\n",
       " '__init_subclass__',\n",
       " '__iter__',\n",
       " '__le__',\n",
       " '__len__',\n",
       " '__lt__',\n",
       " '__ne__',\n",
       " '__new__',\n",
       " '__reduce__',\n",
       " '__reduce_ex__',\n",
       " '__repr__',\n",
       " '__setattr__',\n",
       " '__setitem__',\n",
       " '__sizeof__',\n",
       " '__str__',\n",
       " '__subclasshook__',\n",
       " 'clear',\n",
       " 'copy',\n",
       " 'fromkeys',\n",
       " 'get',\n",
       " 'items',\n",
       " 'keys',\n",
       " 'pop',\n",
       " 'popitem',\n",
       " 'setdefault',\n",
       " 'update',\n",
       " 'values']"
      ]
     },
     "execution_count": 34,
     "metadata": {},
     "output_type": "execute_result"
    }
   ],
   "source": [
    "dir(dict)"
   ]
  },
  {
   "cell_type": "markdown",
   "metadata": {},
   "source": [
    "### dict.clear()\n"
   ]
  },
  {
   "cell_type": "code",
   "execution_count": 35,
   "metadata": {},
   "outputs": [
    {
     "name": "stdout",
     "output_type": "stream",
     "text": [
      "{}\n"
     ]
    }
   ],
   "source": [
    "words.clear()\n",
    "print(words)"
   ]
  },
  {
   "cell_type": "markdown",
   "metadata": {},
   "source": [
    "### dist.copy()"
   ]
  },
  {
   "cell_type": "code",
   "execution_count": 37,
   "metadata": {},
   "outputs": [
    {
     "name": "stdout",
     "output_type": "stream",
     "text": [
      "{'name': 'mounii', 'branch': 'cse'}\n"
     ]
    }
   ],
   "source": [
    "words={\"name\":\"mounii\",\"branch\":\"cse\"}\n",
    "newwords=words.copy()\n",
    "print(newwords)"
   ]
  },
  {
   "cell_type": "code",
   "execution_count": 36,
   "metadata": {},
   "outputs": [
    {
     "data": {
      "text/plain": [
       "<function dict.clear>"
      ]
     },
     "execution_count": 36,
     "metadata": {},
     "output_type": "execute_result"
    }
   ],
   "source": [
    "words={}\n",
    "words.clear\n"
   ]
  },
  {
   "cell_type": "markdown",
   "metadata": {},
   "source": [
    "### dict.get(key)"
   ]
  },
  {
   "cell_type": "code",
   "execution_count": 38,
   "metadata": {},
   "outputs": [
    {
     "data": {
      "text/plain": [
       "'mounii'"
      ]
     },
     "execution_count": 38,
     "metadata": {},
     "output_type": "execute_result"
    }
   ],
   "source": [
    "words.get(\"name\")"
   ]
  },
  {
   "cell_type": "code",
   "execution_count": 39,
   "metadata": {},
   "outputs": [
    {
     "name": "stdout",
     "output_type": "stream",
     "text": [
      "None\n"
     ]
    }
   ],
   "source": [
    "print(words.get(\"mobile\"))"
   ]
  },
  {
   "cell_type": "code",
   "execution_count": 40,
   "metadata": {},
   "outputs": [
    {
     "name": "stdout",
     "output_type": "stream",
     "text": [
      "None\n",
      "hi\n"
     ]
    }
   ],
   "source": [
    "print(words.get(\"mobile\"))\n",
    "print(\"hi\")"
   ]
  },
  {
   "cell_type": "code",
   "execution_count": null,
   "metadata": {},
   "outputs": [],
   "source": [
    "fruits=[\"orange\",\"apple\",\"mango\",\"apple\",\"mango\",\"apple\"]\n",
    "fruits_dist={}\n",
    "\n",
    "\n",
    "\n",
    "print(fruits_dict)\n",
    "#{'orange':1,'mango':2,'apple':3}"
   ]
  },
  {
   "cell_type": "code",
   "execution_count": null,
   "metadata": {},
   "outputs": [],
   "source": []
  },
  {
   "cell_type": "code",
   "execution_count": null,
   "metadata": {},
   "outputs": [],
   "source": []
  }
 ],
 "metadata": {
  "kernelspec": {
   "display_name": "Python 3",
   "language": "python",
   "name": "python3"
  },
  "language_info": {
   "codemirror_mode": {
    "name": "ipython",
    "version": 3
   },
   "file_extension": ".py",
   "mimetype": "text/x-python",
   "name": "python",
   "nbconvert_exporter": "python",
   "pygments_lexer": "ipython3",
   "version": "3.7.3"
  }
 },
 "nbformat": 4,
 "nbformat_minor": 2
}
