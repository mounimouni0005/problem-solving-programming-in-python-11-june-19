{
 "cells": [
  {
   "cell_type": "markdown",
   "metadata": {},
   "source": [
    "### string slicing"
   ]
  },
  {
   "cell_type": "code",
   "execution_count": 38,
   "metadata": {},
   "outputs": [
    {
     "data": {
      "text/plain": [
       "2"
      ]
     },
     "execution_count": 38,
     "metadata": {},
     "output_type": "execute_result"
    }
   ],
   "source": [
    "s=\"problem solving using python\"\n",
    "s[0]\n",
    "s[1]\n",
    "s[1]\n",
    "s[-1]\n",
    "s[-2]\n",
    "s[-6]\n",
    "s[-7]\n",
    "s[::-1]\n",
    "s[::2]\n",
    "s[1:]\n",
    "s[-1:]\n",
    "s[-5:]\n",
    "s[1:6]\n",
    "s[:6]\n",
    "s[-6:-1]\n",
    "s[1:10]\n",
    "s[2:8:2]\n",
    "s[::4]\n",
    "len(s)\n",
    "s.count(\"s\")\n",
    "s.count(\"p\")\n",
    "s.find(\"o\")\n"
   ]
  },
  {
   "cell_type": "markdown",
   "metadata": {},
   "source": [
    "### string fucntions"
   ]
  },
  {
   "cell_type": "code",
   "execution_count": 49,
   "metadata": {},
   "outputs": [
    {
     "data": {
      "text/plain": [
       "True"
      ]
     },
     "execution_count": 49,
     "metadata": {},
     "output_type": "execute_result"
    }
   ],
   "source": [
    "s=\"python123is123averyeasylanguagetolearn\"\n",
    "s.isalnum()\n",
    "s.isalpha()\n",
    "s.islower()\n",
    "s.isnumeric()\n",
    "s.isspace()\n",
    "s.istitle()\n",
    "s.isalpha()\n",
    "s.isalnum()\n"
   ]
  },
  {
   "cell_type": "code",
   "execution_count": 56,
   "metadata": {},
   "outputs": [
    {
     "name": "stdout",
     "output_type": "stream",
     "text": [
      "True\n",
      "True\n",
      "True\n",
      "False\n",
      "True\n",
      "False\n"
     ]
    }
   ],
   "source": [
    "number=\"5\"\n",
    "letters=\"abcd\"\n",
    "spaces=\" \"\n",
    "\n",
    "print(number.isnumeric())\n",
    "print(letters.isalpha())\n",
    "print(letters.islower())\n",
    "print(letters.isupper())\n",
    "print(spaces.isspace())\n",
    "print(spaces.isnumeric())"
   ]
  },
  {
   "cell_type": "code",
   "execution_count": 69,
   "metadata": {},
   "outputs": [
    {
     "name": "stdout",
     "output_type": "stream",
     "text": [
      "9\n",
      "['python', 'is']\n",
      "pyhton,is\n"
     ]
    }
   ],
   "source": [
    "str=\"python is\"\n",
    "print(len(str))\n",
    "print(str.split())\n",
    "print(\",\".join([\"pyhton\" , \"is\"]))"
   ]
  },
  {
   "cell_type": "code",
   "execution_count": 76,
   "metadata": {},
   "outputs": [
    {
     "data": {
      "text/plain": [
       "'naltgunlserv31i2nhy'"
      ]
     },
     "execution_count": 76,
     "metadata": {},
     "output_type": "execute_result"
    }
   ],
   "source": [
    "#function to reverse a string\n",
    "def rev_string(s):\n",
    "    return(s[::-2])\n",
    "rev_string(s)"
   ]
  },
  {
   "cell_type": "code",
   "execution_count": 90,
   "metadata": {},
   "outputs": [
    {
     "data": {
      "text/plain": [
       "'True'"
      ]
     },
     "execution_count": 90,
     "metadata": {},
     "output_type": "execute_result"
    }
   ],
   "source": [
    "#funciton to check given string is a palindrome or not\n",
    "def is_Palindrome(s):\n",
    "    if s == s[::-1]:\n",
    "        return \"True\"\n",
    "    else:\n",
    "        return \"False\"\n",
    "is_Palindrome(\"121\")\n",
    "    "
   ]
  },
  {
   "cell_type": "code",
   "execution_count": 91,
   "metadata": {},
   "outputs": [
    {
     "data": {
      "text/plain": [
       "'True'"
      ]
     },
     "execution_count": 91,
     "metadata": {},
     "output_type": "execute_result"
    }
   ],
   "source": [
    "#funciton to check given year is a leap year or not\n",
    "def is_leapYear(n):\n",
    "        if(n%400==0 or n%100!=0 and n%4==0):\n",
    "            return \"True\"\n",
    "        else:\n",
    "            return \"False\"\n",
    "is_leapYear(2000)"
   ]
  },
  {
   "cell_type": "code",
   "execution_count": 104,
   "metadata": {},
   "outputs": [
    {
     "data": {
      "text/plain": [
       "6"
      ]
     },
     "execution_count": 104,
     "metadata": {},
     "output_type": "execute_result"
    }
   ],
   "source": [
    "#function to count number of digits in a given number\n",
    "def num_Digits(n):\n",
    "    return len(n)\n",
    "\n",
    "num_Digits(\"123456\")"
   ]
  },
  {
   "cell_type": "code",
   "execution_count": 116,
   "metadata": {},
   "outputs": [
    {
     "data": {
      "text/plain": [
       "23"
      ]
     },
     "execution_count": 116,
     "metadata": {},
     "output_type": "execute_result"
    }
   ],
   "source": [
    "#function to identify greatest of four numbers\n",
    "def greatest_num(a,b,c,d):\n",
    "    if(a>b and a>c and a>d):\n",
    "        return a \n",
    "    elif(b>a and b>c and b>d):\n",
    "        return b \n",
    "    elif(c>a and c>b and c>d):\n",
    "        return c\n",
    "    else:\n",
    "        return d\n",
    "greatest_num(13,2,23,22)"
   ]
  },
  {
   "cell_type": "markdown",
   "metadata": {},
   "source": [
    "### Iteration\n",
    "* for \n",
    "* while"
   ]
  },
  {
   "cell_type": "code",
   "execution_count": 117,
   "metadata": {},
   "outputs": [
    {
     "name": "stdout",
     "output_type": "stream",
     "text": [
      "1 2 3 4 5 6 7 8 9 10 11 12 13 14 15 16 17 18 19 20 21 22 23 24 25 26 27 28 29 30 "
     ]
    }
   ],
   "source": [
    "#funciton to print n natural numbers\n",
    "def n_naturalnum(n):\n",
    "    for i in range(1,n+1):\n",
    "        print(i,end=\" \")\n",
    "n_naturalnum(30)"
   ]
  },
  {
   "cell_type": "code",
   "execution_count": 2,
   "metadata": {},
   "outputs": [
    {
     "name": "stdout",
     "output_type": "stream",
     "text": [
      "1 2 3 4 5 6 7 8 9 10 11 12 13 14 15 16 17 18 19 20 21 22 23 24 25 26 27 28 29 30 "
     ]
    }
   ],
   "source": [
    "#funciton to print n natural numbers using while loop\n",
    "def n_naturalnum(n):\n",
    "    count=1\n",
    "    while count<=n:\n",
    "        print (count,end=\" \")\n",
    "        count=count+1\n",
    "    return\n",
    "\n",
    "n_naturalnum(30)"
   ]
  },
  {
   "cell_type": "code",
   "execution_count": 4,
   "metadata": {},
   "outputs": [
    {
     "name": "stdout",
     "output_type": "stream",
     "text": [
      "6 12 18 24 30 "
     ]
    }
   ],
   "source": [
    "#funciton to print all numbers are divisible by 6 and not factor of 100 in a given range(lb,ub)\n",
    "def div_6not_100(lb,ub):\n",
    "    for i in range(lb,ub+1):\n",
    "        if i%6==0 and 100%i!=0:\n",
    "            print(i,end=\" \")\n",
    "        \n",
    "    \n",
    "div_6not_100(1,30)"
   ]
  },
  {
   "cell_type": "code",
   "execution_count": 12,
   "metadata": {},
   "outputs": [
    {
     "data": {
      "text/plain": [
       "8.0"
      ]
     },
     "execution_count": 12,
     "metadata": {},
     "output_type": "execute_result"
    }
   ],
   "source": [
    "#function to find avg of cubes of all even num in a given range\n",
    "def cubes_even_avg(lb,ub):\n",
    "    sum=0\n",
    "    count=0\n",
    "    for i in range(lb,ub+1):\n",
    "        if i%2==0:\n",
    "            sum+=i * i*i\n",
    "            count=count+1\n",
    "            \n",
    "    return sum/count\n",
    "cubes_even_avg(1,3)"
   ]
  },
  {
   "cell_type": "code",
   "execution_count": null,
   "metadata": {},
   "outputs": [],
   "source": [
    "n=int(input())\n",
    "sum=0\n",
    "count=0\n",
    "while count<=n:\n",
    "    if count%2==0:\n",
    "        sum+=i * i*i\n",
    "        count=count+1\n",
    "    return sum/count\n",
    "    \n",
    "        "
   ]
  },
  {
   "cell_type": "code",
   "execution_count": null,
   "metadata": {},
   "outputs": [],
   "source": []
  }
 ],
 "metadata": {
  "kernelspec": {
   "display_name": "Python 3",
   "language": "python",
   "name": "python3"
  },
  "language_info": {
   "codemirror_mode": {
    "name": "ipython",
    "version": 3
   },
   "file_extension": ".py",
   "mimetype": "text/x-python",
   "name": "python",
   "nbconvert_exporter": "python",
   "pygments_lexer": "ipython3",
   "version": "3.7.3"
  }
 },
 "nbformat": 4,
 "nbformat_minor": 2
}
