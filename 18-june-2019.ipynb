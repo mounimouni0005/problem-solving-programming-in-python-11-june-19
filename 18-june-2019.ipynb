{
 "cells": [
  {
   "cell_type": "markdown",
   "metadata": {},
   "source": [
    "### Tuples\n",
    "t1 = ()\n",
    "li = []\n",
    "difference between lists and tuples\n",
    "lists are mutable-can be changed/modified\n",
    "-used to access,modify,add,delete data\n",
    "*tuples are immutable-cannot be changed once initialised\n",
    "*used to access data only"
   ]
  },
  {
   "cell_type": "code",
   "execution_count": 4,
   "metadata": {},
   "outputs": [
    {
     "data": {
      "text/plain": [
       "tuple"
      ]
     },
     "execution_count": 4,
     "metadata": {},
     "output_type": "execute_result"
    }
   ],
   "source": [
    "t1=(1,2,8,6,0)\n",
    "t1[3]#accessing the fourth element\n",
    "t1[len(t1)//2:]#accessing all elements from middle to last\n",
    "type(t1)"
   ]
  },
  {
   "cell_type": "markdown",
   "metadata": {},
   "source": [
    "### dictionaries\n",
    "\n",
    "it works on the concept of set\n",
    "\n",
    "keys,values\n",
    "key is the unique identifier for a vlaue\n",
    "value is data that can be accessed with a key\n",
    "\n"
   ]
  },
  {
   "cell_type": "code",
   "execution_count": 10,
   "metadata": {},
   "outputs": [
    {
     "data": {
      "text/plain": [
       "False"
      ]
     },
     "execution_count": 10,
     "metadata": {},
     "output_type": "execute_result"
    }
   ],
   "source": [
    "d1={\"k1\":\"value1\",\"k2\":\"value2\"}\n",
    "d1[\"k1\"]#accessing the value with key \"k2\"\n",
    "d1.keys()#returns list of all keys\n",
    "d1.values()#returns list of all values\n",
    "d1.items()#returns list of tupels of keys and values\n",
    "d1[\"k3\"]=\"value3\"#adding an element to the dictionary\n",
    "d1[\"k3\"]=\"value4\"#updation an element in the dictionary\n",
    "d1.pop(\"k3\")#remove an elements\n",
    "\"k3\" in d1\n"
   ]
  },
  {
   "cell_type": "markdown",
   "metadata": {},
   "source": [
    "### contacts application\n",
    "- add contacts\n",
    "- search for contact\n",
    "- modity contact\n",
    "- remove contact\n",
    "- list all contacts\n",
    "   -modify contact\n",
    "   -remove contact\n"
   ]
  },
  {
   "cell_type": "code",
   "execution_count": 13,
   "metadata": {},
   "outputs": [
    {
     "name": "stdout",
     "output_type": "stream",
     "text": [
      "contact mouni added\n"
     ]
    }
   ],
   "source": [
    "contacts = {}\n",
    "\n",
    "def addcontact(name,phone):\n",
    "    #verify that the contact doesnot already exist\n",
    "    if name not in contacts:\n",
    "        contacts[name]=phone\n",
    "        print(\"contact %s added\"% name)\n",
    "    else:\n",
    "        print(\"contact %s already exists\" % name)\n",
    "    return\n",
    "\n",
    "addcontact(\"mouni\",\"7731057615\")"
   ]
  },
  {
   "cell_type": "code",
   "execution_count": 14,
   "metadata": {},
   "outputs": [
    {
     "name": "stdout",
     "output_type": "stream",
     "text": [
      "mouni does not exist\n"
     ]
    }
   ],
   "source": [
    "def searchcontacts(mouni):\n",
    "    if mouni in contacts:\n",
    "        print(mouni,\":\",contacts[mouni])\n",
    "    else:\n",
    "        print(\"%s does not exist\" % mouni)\n",
    "    return\n",
    "searchcontacts(\"mouni\")"
   ]
  },
  {
   "cell_type": "code",
   "execution_count": 35,
   "metadata": {},
   "outputs": [
    {
     "name": "stdout",
     "output_type": "stream",
     "text": [
      "does not exist mouni\n"
     ]
    }
   ],
   "source": [
    "c1={\"mouni\":\"7771\"}\n",
    "def modify(mouni):\n",
    "    if mouni in contacts:\n",
    "        phone=int(intput(\"enter the number\"))\n",
    "        contacts[mouni]=phone\n",
    "        print(\"successifully modity %s number\"%phone)\n",
    "    else:\n",
    "        print(\"does not exist %s\"%mouni)\n",
    "modify(\"mouni\")\n",
    "        \n"
   ]
  },
  {
   "cell_type": "code",
   "execution_count": 34,
   "metadata": {},
   "outputs": [
    {
     "name": "stdout",
     "output_type": "stream",
     "text": [
      "3445\n"
     ]
    }
   ],
   "source": [
    "c1={\"mounika\":\"1234\",\"patty\":\"3445\"}\n",
    "def remove(patty):\n",
    "    if patty in c1:\n",
    "        print(c1.pop(patty))\n",
    "    else:\n",
    "        print(\"%s does not exist\"%patty)\n",
    "remove(\"patty\")"
   ]
  },
  {
   "cell_type": "code",
   "execution_count": 53,
   "metadata": {},
   "outputs": [
    {
     "data": {
      "text/plain": [
       "dict_items([('mouni', '7731057615')])"
      ]
     },
     "execution_count": 53,
     "metadata": {},
     "output_type": "execute_result"
    }
   ],
   "source": [
    "contacts.items()"
   ]
  },
  {
   "cell_type": "code",
   "execution_count": 6,
   "metadata": {},
   "outputs": [
    {
     "name": "stdout",
     "output_type": "stream",
     "text": [
      "2 added successfully\n"
     ]
    }
   ],
   "source": [
    "contacts={\"mounika\":\"9515481150\"}\n",
    "def importcontacts(newcontacts):\n",
    "    contacts.update(newcontacts)\n",
    "    print(len(newcontacts.keys()),\"added successfully\")\n",
    "    return\n",
    "newcontacts={\"mounii\":7731057615,\"amma\":8008702136}\n",
    "importcontacts(newcontacts)\n",
    "    "
   ]
  },
  {
   "cell_type": "code",
   "execution_count": 36,
   "metadata": {},
   "outputs": [
    {
     "data": {
      "text/plain": [
       "3.141592653589793"
      ]
     },
     "execution_count": 36,
     "metadata": {},
     "output_type": "execute_result"
    }
   ],
   "source": [
    "import math\n",
    "\n",
    "math.floor(123.456)\n",
    "\n",
    "math.pi"
   ]
  },
  {
   "cell_type": "code",
   "execution_count": 37,
   "metadata": {},
   "outputs": [
    {
     "data": {
      "text/plain": [
       "3.141592653589793"
      ]
     },
     "execution_count": 37,
     "metadata": {},
     "output_type": "execute_result"
    }
   ],
   "source": [
    "from math import floor,pi\n",
    "pi"
   ]
  },
  {
   "cell_type": "code",
   "execution_count": 44,
   "metadata": {},
   "outputs": [
    {
     "name": "stdout",
     "output_type": "stream",
     "text": [
      "6 5 14 18 1 11 1 19 15 9 "
     ]
    }
   ],
   "source": [
    "#function to generate n random numbers\n",
    "import random\n",
    "\n",
    "def randomnum(n,lb,ub):\n",
    "    for i in range(0,n):\n",
    "        print(random.randint(lb,ub),end=\" \")\n",
    "randomnum(10,0,20)\n",
    "    "
   ]
  },
  {
   "cell_type": "code",
   "execution_count": null,
   "metadata": {},
   "outputs": [],
   "source": [
    "from packages import numerical\n",
    "\n"
   ]
  }
 ],
 "metadata": {
  "kernelspec": {
   "display_name": "Python 3",
   "language": "python",
   "name": "python3"
  },
  "language_info": {
   "codemirror_mode": {
    "name": "ipython",
    "version": 3
   },
   "file_extension": ".py",
   "mimetype": "text/x-python",
   "name": "python",
   "nbconvert_exporter": "python",
   "pygments_lexer": "ipython3",
   "version": "3.7.3"
  }
 },
 "nbformat": 4,
 "nbformat_minor": 2
}
