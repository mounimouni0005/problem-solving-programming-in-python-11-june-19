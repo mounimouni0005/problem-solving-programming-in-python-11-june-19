{
 "cells": [
  {
   "cell_type": "code",
   "execution_count": 2,
   "metadata": {},
   "outputs": [
    {
     "name": "stdout",
     "output_type": "stream",
     "text": [
      "ab\n",
      "3\n"
     ]
    }
   ],
   "source": [
    "#char sum\n",
    "def char_sum(s):\n",
    "    sum=0\n",
    "    for i in s:\n",
    "        n=ord(i)-96\n",
    "        sum=sum+n\n",
    "    print(sum)\n",
    "s=input()\n",
    "char_sum(s)"
   ]
  },
  {
   "cell_type": "code",
   "execution_count": 3,
   "metadata": {},
   "outputs": [
    {
     "name": "stdout",
     "output_type": "stream",
     "text": [
      "9\n",
      "2 3 5 7 "
     ]
    }
   ],
   "source": [
    "#prime \n",
    "def is_prime(n):\n",
    "    a=2\n",
    "    for i in range(1,n+1):\n",
    "        if i>1:\n",
    "            for k in range(2,i):\n",
    "                if(i%k==0):\n",
    "                    break\n",
    "            else:\n",
    "                print(i,end=\" \")\n",
    "             \n",
    "    \n",
    "n=int(input())\n",
    "is_prime(n)"
   ]
  },
  {
   "cell_type": "code",
   "execution_count": 4,
   "metadata": {},
   "outputs": [
    {
     "name": "stdout",
     "output_type": "stream",
     "text": [
      "153\n",
      "NO\n"
     ]
    }
   ],
   "source": [
    "#palindrome\n",
    "def ispalindrome(s):\n",
    "        \n",
    "        if s==s[::-1]:\n",
    "            print(\"YES\")\n",
    "        else:\n",
    "            print(\"NO\")\n",
    "            \n",
    "s=input()\n",
    "ispalindrome(s)"
   ]
  },
  {
   "cell_type": "code",
   "execution_count": null,
   "metadata": {},
   "outputs": [],
   "source": [
    "#count divisior\n",
    "def iscountdivisor(l,r,k):\n",
    "    count=0\n",
    "    for i in range(l,j+1):\n",
    "        if i%k==0:\n",
    "           count+=1\n",
    "    print (count)\n",
    "    return\n",
    "s=input()\n",
    "s=s.split()\n",
    "i=int(s[0])\n",
    "j=int(s[1])\n",
    "k=int(s[2])\n",
    "iscountdivisor(i,j,k)"
   ]
  },
  {
   "cell_type": "code",
   "execution_count": 7,
   "metadata": {},
   "outputs": [
    {
     "name": "stdout",
     "output_type": "stream",
     "text": [
      "12\n",
      "479001600\n"
     ]
    }
   ],
   "source": [
    "#factorial\n",
    "def factorial(n):\n",
    "    fact=1\n",
    "    for i in range(1,n+1):\n",
    "        fact=fact*i\n",
    "    print(fact)\n",
    "    return\n",
    "\n",
    "n=int(input())\n",
    "factorial(n)"
   ]
  },
  {
   "cell_type": "code",
   "execution_count": 9,
   "metadata": {},
   "outputs": [
    {
     "name": "stdout",
     "output_type": "stream",
     "text": [
      "abc\n",
      "ABC\n"
     ]
    }
   ],
   "source": [
    "#toggle\n",
    "def togglestring(s):\n",
    "    return s.swapcase()\n",
    "    \n",
    "s=input()\n",
    "print(togglestring(s))"
   ]
  },
  {
   "cell_type": "code",
   "execution_count": null,
   "metadata": {},
   "outputs": [],
   "source": [
    "#duration\n",
    "input:start time,end time(hh mm)\n",
    "    hh-{00,23}{00 00, 23 59}\n",
    "    mm-{00,59}\n",
    "output:time difference in hh mm"
   ]
  }
 ],
 "metadata": {
  "kernelspec": {
   "display_name": "Python 3",
   "language": "python",
   "name": "python3"
  },
  "language_info": {
   "codemirror_mode": {
    "name": "ipython",
    "version": 3
   },
   "file_extension": ".py",
   "mimetype": "text/x-python",
   "name": "python",
   "nbconvert_exporter": "python",
   "pygments_lexer": "ipython3",
   "version": "3.7.3"
  }
 },
 "nbformat": 4,
 "nbformat_minor": 2
}
