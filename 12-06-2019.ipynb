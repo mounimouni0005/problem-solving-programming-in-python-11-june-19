{
 "cells": [
  {
   "cell_type": "markdown",
   "metadata": {},
   "source": [
    "### string slicing"
   ]
  },
  {
   "cell_type": "code",
   "execution_count": 10,
   "metadata": {},
   "outputs": [
    {
     "data": {
      "text/plain": [
       "'m|'"
      ]
     },
     "execution_count": 10,
     "metadata": {},
     "output_type": "execute_result"
    }
   ],
   "source": [
    "s1 = \"pythonprogram|\"\n",
    "s1[len(s1)-1]#accessing the last character in a string\n",
    "s1[1]#accessing the second char\n",
    "s1[0]#accessing the first char\n",
    "s1[-1]#accessing the last char\n",
    "s1[-2]#accessing the penultimate char\n",
    "s1[0:2]#accessing the first two char,(: is a slicing operator)\n",
    "s1[-2:]#accessing the last two characters in a string"
   ]
  },
  {
   "cell_type": "code",
   "execution_count": 32,
   "metadata": {},
   "outputs": [
    {
     "data": {
      "text/plain": [
       "'nhy'"
      ]
     },
     "execution_count": 32,
     "metadata": {},
     "output_type": "execute_result"
    }
   ],
   "source": [
    "s1=\"python\"\n",
    "\n",
    "#accessing all characters except first and last character\n",
    "s1[1:-1]\n",
    "#accessig the middle character in a string\n",
    "s1[len(s1)//2]# // is used for the convert the floating into int\n",
    "s1[-1: :-1]#reverse of a string \n",
    "s1[-1:-3:-1]#access last two characters in reverse order\n",
    "s1[-1:-3:-1]\n",
    "#reverse the middle two characters in an even length string\n",
    "s1[len(s1)//2:]\n",
    "#accessing alternate characters in an even length string\n",
    "s1[1::2]\n",
    "#accessing alternate characters in a string with reverse order\n",
    "s1[::-2]\n",
    "#\"python\"---> \"nhy\"\n",
    "\n",
    "\n"
   ]
  },
  {
   "cell_type": "code",
   "execution_count": 38,
   "metadata": {},
   "outputs": [
    {
     "data": {
      "text/plain": [
       "['False',\n",
       " 'None',\n",
       " 'True',\n",
       " 'and',\n",
       " 'as',\n",
       " 'assert',\n",
       " 'async',\n",
       " 'await',\n",
       " 'break',\n",
       " 'class',\n",
       " 'continue',\n",
       " 'def',\n",
       " 'del',\n",
       " 'elif',\n",
       " 'else',\n",
       " 'except',\n",
       " 'finally',\n",
       " 'for',\n",
       " 'from',\n",
       " 'global',\n",
       " 'if',\n",
       " 'import',\n",
       " 'in',\n",
       " 'is',\n",
       " 'lambda',\n",
       " 'nonlocal',\n",
       " 'not',\n",
       " 'or',\n",
       " 'pass',\n",
       " 'raise',\n",
       " 'return',\n",
       " 'try',\n",
       " 'while',\n",
       " 'with',\n",
       " 'yield']"
      ]
     },
     "execution_count": 38,
     "metadata": {},
     "output_type": "execute_result"
    }
   ],
   "source": [
    "import keyword\n",
    "keyword.kwlist"
   ]
  },
  {
   "cell_type": "markdown",
   "metadata": {},
   "source": [
    "###  functions"
   ]
  },
  {
   "cell_type": "code",
   "execution_count": 43,
   "metadata": {},
   "outputs": [
    {
     "data": {
      "text/plain": [
       "'nohtyp'"
      ]
     },
     "execution_count": 43,
     "metadata": {},
     "output_type": "execute_result"
    }
   ],
   "source": [
    "#reverse of a given string\n",
    "def reverseString(s):\n",
    "    return s[::-1]\n",
    "reverseString(\"python\")"
   ]
  },
  {
   "cell_type": "code",
   "execution_count": 10,
   "metadata": {},
   "outputs": [
    {
     "data": {
      "text/plain": [
       "True"
      ]
     },
     "execution_count": 10,
     "metadata": {},
     "output_type": "execute_result"
    }
   ],
   "source": [
    "#fucntion to check if a string is a palindrom\n",
    "def palindrome(s):\n",
    "    if s == s[::-1]:\n",
    "        return True\n",
    "    else:\n",
    "        return False\n",
    "    \n",
    "palindrome(\"123321\")\n",
    "\n",
    "\n"
   ]
  },
  {
   "cell_type": "code",
   "execution_count": 5,
   "metadata": {},
   "outputs": [
    {
     "data": {
      "text/plain": [
       "True"
      ]
     },
     "execution_count": 5,
     "metadata": {},
     "output_type": "execute_result"
    }
   ],
   "source": [
    "#function to check if a given year is a leap year\n",
    "def isLeapYear(year):\n",
    "    if year%400==0 or(year%100!=0 and year%4==0):\n",
    "        return True\n",
    "    else:\n",
    "        return False\n",
    "    \n",
    "isLeapYear(2020)\n",
    " "
   ]
  },
  {
   "cell_type": "code",
   "execution_count": 12,
   "metadata": {},
   "outputs": [
    {
     "name": "stdout",
     "output_type": "stream",
     "text": [
      "enter the number1234\n",
      "4\n"
     ]
    }
   ],
   "source": [
    "#FUNCTION TO COUNT THE NUMBER OF DIGITS IN A GIVEN NUMBER\n",
    "s=input(\"enter the number\")\n",
    "def l(s):\n",
    "    print(len(s))\n",
    "l(s)"
   ]
  },
  {
   "cell_type": "code",
   "execution_count": 15,
   "metadata": {},
   "outputs": [
    {
     "name": "stdout",
     "output_type": "stream",
     "text": [
      "enter the number34\n",
      "enter the number23\n",
      "enter the number23\n",
      "enter the number34\n"
     ]
    },
    {
     "data": {
      "text/plain": [
       "34"
      ]
     },
     "execution_count": 15,
     "metadata": {},
     "output_type": "execute_result"
    }
   ],
   "source": [
    "#FUNCTION TO IDENTIFY THE GREATEST OF 4 NUMBERS\n",
    "s1=int(input(\"enter the number\"))\n",
    "s2=int(input(\"enter the number\"))\n",
    "s3=int(input(\"enter the number\"))\n",
    "s4=int(input(\"enter the number\"))\n",
    "def s(s1,s2,s3,s4):\n",
    "    if s1>s2 and s1>s3 and s1>s4:\n",
    "        return s1\n",
    "    elif s2>s1 and s2>s3 and s3>s4:\n",
    "        return s2\n",
    "    elif s3>s1 and s3>s2 and s3>s4:\n",
    "        return s3\n",
    "    else:\n",
    "        return s4\n",
    "s(s1,s2,s3,s4)"
   ]
  },
  {
   "cell_type": "markdown",
   "metadata": {},
   "source": [
    "### iteration\n",
    "* for\n",
    "* while"
   ]
  },
  {
   "cell_type": "code",
   "execution_count": 17,
   "metadata": {},
   "outputs": [
    {
     "name": "stdout",
     "output_type": "stream",
     "text": [
      "1 2 3 4 5 6 7 8 9 10 11 12 13 14 15 16 17 18 19 20 21 22 23 24 25 26 27 28 29 30 "
     ]
    }
   ],
   "source": [
    "#funciton to print n natural numbers\n",
    "def printnnaturalnumbers(n):#printnnatural numbers is a userdefined function\n",
    "    for counter in range(1, n+1):#counter is a variable and range is inbult function\n",
    "        print(counter, end=\" \")\n",
    "printnnaturalnumbers(30)"
   ]
  },
  {
   "cell_type": "code",
   "execution_count": 19,
   "metadata": {},
   "outputs": [
    {
     "name": "stdout",
     "output_type": "stream",
     "text": [
      "1 2 3 4 5 6 7 8 9 "
     ]
    }
   ],
   "source": [
    "#function to print n natural numbers using a while loop\n",
    "def printnnaturlanumbers(n):\n",
    "    counter=1\n",
    "    while counter <=n:\n",
    "        print(counter)\n",
    "        counter=counter+1\n",
    "    return\n",
    "printnnaturalnumbers(9)"
   ]
  },
  {
   "cell_type": "code",
   "execution_count": 22,
   "metadata": {},
   "outputs": [
    {
     "name": "stdout",
     "output_type": "stream",
     "text": [
      "12 18 24 30 36 42 48 54 60 66 72 78 84 90 96 "
     ]
    }
   ],
   "source": [
    "#function to print all numbers divisible by 6 and not a factor of 100 in a given range(lb, ub)inclusive\n",
    "#s=int(input(\"enter a number\"))\n",
    "def name(lb,ub):\n",
    "    for i in range(lb,ub):\n",
    "        if i%6==0 and i%100!=0:\n",
    "            print(i,end=\" \")\n",
    "name(10,100)\n",
    "        \n",
    "\n",
    "\n",
    "\n",
    "\n"
   ]
  },
  {
   "cell_type": "code",
   "execution_count": 35,
   "metadata": {},
   "outputs": [
    {
     "name": "stdout",
     "output_type": "stream",
     "text": [
      "32724.0\n"
     ]
    }
   ],
   "source": [
    "#fucntion to find the cubes average of all even numbers\n",
    "#in a given range(lb,ub)inclusive\n",
    "def avgc(lb,ub):\n",
    "    sum1=0\n",
    "    count=0\n",
    "    for i in range(lb,ub):\n",
    "        if i%2==0:\n",
    "            sum1=sum1+i**3\n",
    "            count=count+1\n",
    "    print(sum1/count)\n",
    "avgc(5,50)\n"
   ]
  },
  {
   "cell_type": "code",
   "execution_count": null,
   "metadata": {},
   "outputs": [],
   "source": [
    "#function to generate the list of factors for a given number\n",
    "#12->1 2 3 4  6 12\n"
   ]
  },
  {
   "cell_type": "code",
   "execution_count": null,
   "metadata": {},
   "outputs": [],
   "source": [
    "#function to calculate the factorial of a given number\n",
    "def factorial(n):\n",
    "    \n"
   ]
  },
  {
   "cell_type": "code",
   "execution_count": null,
   "metadata": {},
   "outputs": [],
   "source": [
    "#function to check if a given number is prime"
   ]
  },
  {
   "cell_type": "code",
   "execution_count": 37,
   "metadata": {},
   "outputs": [
    {
     "ename": "NameError",
     "evalue": "name 'count' is not defined",
     "output_type": "error",
     "traceback": [
      "\u001b[1;31m---------------------------------------------------------------------------\u001b[0m",
      "\u001b[1;31mNameError\u001b[0m                                 Traceback (most recent call last)",
      "\u001b[1;32m<ipython-input-37-5f5df163878f>\u001b[0m in \u001b[0;36m<module>\u001b[1;34m\u001b[0m\n\u001b[0;32m     10\u001b[0m         \u001b[0mseqcount\u001b[0m \u001b[1;33m+=\u001b[0m \u001b[1;36m1\u001b[0m\u001b[1;33m\u001b[0m\u001b[1;33m\u001b[0m\u001b[0m\n\u001b[0;32m     11\u001b[0m     \u001b[1;32mreturn\u001b[0m \u001b[0msum\u001b[0m\u001b[1;33m/\u001b[0m\u001b[0mn\u001b[0m\u001b[1;33m\u001b[0m\u001b[1;33m\u001b[0m\u001b[0m\n\u001b[1;32m---> 12\u001b[1;33m \u001b[0mavgnprimes\u001b[0m\u001b[1;33m(\u001b[0m\u001b[1;36m10\u001b[0m\u001b[1;33m)\u001b[0m\u001b[1;33m\u001b[0m\u001b[1;33m\u001b[0m\u001b[0m\n\u001b[0m",
      "\u001b[1;32m<ipython-input-37-5f5df163878f>\u001b[0m in \u001b[0;36mavgnprimes\u001b[1;34m(n)\u001b[0m\n\u001b[0;32m      4\u001b[0m     \u001b[0msum\u001b[0m\u001b[1;33m=\u001b[0m\u001b[1;36m0\u001b[0m\u001b[1;33m\u001b[0m\u001b[1;33m\u001b[0m\u001b[0m\n\u001b[0;32m      5\u001b[0m     \u001b[0mseqcount\u001b[0m\u001b[1;33m=\u001b[0m\u001b[1;36m2\u001b[0m\u001b[1;33m\u001b[0m\u001b[1;33m\u001b[0m\u001b[0m\n\u001b[1;32m----> 6\u001b[1;33m     \u001b[1;32mwhile\u001b[0m\u001b[1;33m(\u001b[0m\u001b[0mcount\u001b[0m\u001b[1;33m<\u001b[0m\u001b[0mn\u001b[0m\u001b[1;33m)\u001b[0m\u001b[1;33m:\u001b[0m\u001b[1;33m\u001b[0m\u001b[1;33m\u001b[0m\u001b[0m\n\u001b[0m\u001b[0;32m      7\u001b[0m         \u001b[1;32mif\u001b[0m \u001b[0misprime\u001b[0m\u001b[1;33m(\u001b[0m\u001b[0mseqcount\u001b[0m\u001b[1;33m)\u001b[0m\u001b[1;33m:\u001b[0m\u001b[1;33m\u001b[0m\u001b[1;33m\u001b[0m\u001b[0m\n\u001b[0;32m      8\u001b[0m             \u001b[0mprimecount\u001b[0m \u001b[1;33m+=\u001b[0m \u001b[1;36m1\u001b[0m\u001b[1;33m\u001b[0m\u001b[1;33m\u001b[0m\u001b[0m\n",
      "\u001b[1;31mNameError\u001b[0m: name 'count' is not defined"
     ]
    }
   ],
   "source": [
    "#fucntion to calculate the average first N prime numbers\n",
    "def avgnprimes(n):\n",
    "    primecount=0\n",
    "    sum=0\n",
    "    seqcount=2 \n",
    "    while(count<n):\n",
    "        if isprime(seqcount):\n",
    "            primecount += 1\n",
    "            sum += seqcount\n",
    "        seqcount += 1\n",
    "    return sum/n\n",
    "avgnprimes(10)"
   ]
  },
  {
   "cell_type": "code",
   "execution_count": null,
   "metadata": {},
   "outputs": [],
   "source": [
    "#function to generate all perfect numbers in a given range"
   ]
  },
  {
   "cell_type": "code",
   "execution_count": null,
   "metadata": {},
   "outputs": [],
   "source": [
    "#funciton to find of cubes of all even numbers\n",
    "#in a given range(lb,up) inclusive\n"
   ]
  }
 ],
 "metadata": {
  "kernelspec": {
   "display_name": "Python 3",
   "language": "python",
   "name": "python3"
  }
 },
 "nbformat": 4,
 "nbformat_minor": 2
}
