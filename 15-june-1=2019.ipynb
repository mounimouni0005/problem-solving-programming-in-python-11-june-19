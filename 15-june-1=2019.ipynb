{
 "cells": [
  {
   "cell_type": "code",
   "execution_count": 2,
   "metadata": {},
   "outputs": [
    {
     "name": "stdout",
     "output_type": "stream",
     "text": [
      "3\n",
      "0\n",
      "1\n",
      "5\n",
      "14\n"
     ]
    }
   ],
   "source": [
    "#natural numbers sqr sum\n",
    "n=int(input())\n",
    "sum=0\n",
    "for i in range(0,n+1):\n",
    "        sum=sum+i**2\n",
    "        print(sum)"
   ]
  },
  {
   "cell_type": "code",
   "execution_count": 8,
   "metadata": {},
   "outputs": [
    {
     "ename": "NameError",
     "evalue": "name 'p1' is not defined",
     "output_type": "error",
     "traceback": [
      "\u001b[1;31m---------------------------------------------------------------------------\u001b[0m",
      "\u001b[1;31mNameError\u001b[0m                                 Traceback (most recent call last)",
      "\u001b[1;32m<ipython-input-8-2819862747d8>\u001b[0m in \u001b[0;36m<module>\u001b[1;34m\u001b[0m\n\u001b[0;32m      6\u001b[0m \u001b[0mpl\u001b[0m\u001b[1;33m.\u001b[0m\u001b[0msort\u001b[0m\u001b[1;33m(\u001b[0m\u001b[1;33m)\u001b[0m\u001b[1;33m\u001b[0m\u001b[1;33m\u001b[0m\u001b[0m\n\u001b[0;32m      7\u001b[0m \u001b[1;32mif\u001b[0m \u001b[0mpl\u001b[0m\u001b[1;33m[\u001b[0m\u001b[1;33m-\u001b[0m\u001b[1;36m1\u001b[0m\u001b[1;33m]\u001b[0m \u001b[1;32min\u001b[0m \u001b[0mli\u001b[0m\u001b[1;33m:\u001b[0m\u001b[1;33m\u001b[0m\u001b[1;33m\u001b[0m\u001b[0m\n\u001b[1;32m----> 8\u001b[1;33m     \u001b[0mprint\u001b[0m\u001b[1;33m(\u001b[0m\u001b[0mp1\u001b[0m\u001b[1;33m[\u001b[0m\u001b[1;33m-\u001b[0m\u001b[1;36m1\u001b[0m\u001b[1;33m]\u001b[0m\u001b[1;33m)\u001b[0m\u001b[1;33m\u001b[0m\u001b[1;33m\u001b[0m\u001b[0m\n\u001b[0m\u001b[0;32m      9\u001b[0m \u001b[1;32melse\u001b[0m\u001b[1;33m:\u001b[0m\u001b[1;33m\u001b[0m\u001b[1;33m\u001b[0m\u001b[0m\n\u001b[0;32m     10\u001b[0m     \u001b[0mprint\u001b[0m\u001b[1;33m(\u001b[0m\u001b[1;33m-\u001b[0m\u001b[0mp1\u001b[0m\u001b[1;33m[\u001b[0m\u001b[1;33m-\u001b[0m\u001b[1;36m1\u001b[0m\u001b[1;33m]\u001b[0m\u001b[1;33m)\u001b[0m\u001b[1;33m\u001b[0m\u001b[1;33m\u001b[0m\u001b[0m\n",
      "\u001b[1;31mNameError\u001b[0m: name 'p1' is not defined"
     ]
    }
   ],
   "source": [
    "li=[-1,-2,2,3]\n",
    "li.sort()\n",
    "pl=[]\n",
    "for i in li:\n",
    "    pl.append(abs(i))\n",
    "pl.sort()\n",
    "if pl[-1] in li:\n",
    "    print(p1[-1])\n",
    "else:\n",
    "    print(-p1[-1])\n",
    "    "
   ]
  },
  {
   "cell_type": "markdown",
   "metadata": {},
   "source": [
    "### problem-3\n",
    "you are given three numbers a,b,c.writhe a program to find the largest number which is less than or equal to c and leaves remainder b when divided by a\n",
    "def cal(a,b,c):\n",
    "    for i in range(c, a-1, -1):\n",
    "        if i%a==b:\n",
    "           return i\n",
    "    return-1\n",
    "cal(1,2,4)"
   ]
  },
  {
   "cell_type": "code",
   "execution_count": 15,
   "metadata": {},
   "outputs": [
    {
     "name": "stdout",
     "output_type": "stream",
     "text": [
      "9\n",
      "2 3 5 7 "
     ]
    }
   ],
   "source": [
    "def is_prime(n):\n",
    "    a=2\n",
    "    for i in range(1,n+1):\n",
    "        if i>1:\n",
    "            for k in range(2,i):\n",
    "                if(i%k==0):\n",
    "                    break\n",
    "            else:\n",
    "                print(i,end=\" \")\n",
    "             \n",
    "    \n",
    "n=int(input())\n",
    "is_prime(n)"
   ]
  },
  {
   "cell_type": "code",
   "execution_count": 31,
   "metadata": {},
   "outputs": [
    {
     "name": "stdout",
     "output_type": "stream",
     "text": [
      "<class 'int'>\n"
     ]
    },
    {
     "data": {
      "text/plain": [
       "[1, 3, 1, 3]"
      ]
     },
     "execution_count": 31,
     "metadata": {},
     "output_type": "execute_result"
    }
   ],
   "source": [
    "a=1\n",
    "b=0.99\n",
    "c=\"mounee\"\n",
    "print(type(a))\n",
    "\"hello\"+\"python\"\n",
    "\"122\"*3\n",
    "str=\"hello python\"\n",
    "str1=\"how are you\"\n",
    "str+str1\n",
    "str*4\n",
    "li=[1,2,3,4,1,2,3,4]\n",
    "li[2]\n",
    "li[3:]\n",
    "li[::-1]\n",
    "li[::2]\n"
   ]
  },
  {
   "cell_type": "code",
   "execution_count": 38,
   "metadata": {},
   "outputs": [
    {
     "name": "stdout",
     "output_type": "stream",
     "text": [
      "enter a number2\n",
      "enter b number3\n",
      "enter c number4\n",
      "c is a big number\n"
     ]
    }
   ],
   "source": [
    "#print gratest of three numbers\n",
    "a=int(input(\"enter a number\"))\n",
    "b=int(input(\"enter b number\"))\n",
    "c=int(input(\"enter c number\"))\n",
    "if(a>b and a>c):\n",
    "    print(\"a is a big number\")\n",
    "if(b>a and b>c):\n",
    "    print(\"b is a big number\")\n",
    "if(c>a and c>b):\n",
    "    print(\"c is a big number\")"
   ]
  },
  {
   "cell_type": "code",
   "execution_count": 41,
   "metadata": {},
   "outputs": [
    {
     "ename": "SyntaxError",
     "evalue": "EOL while scanning string literal (<ipython-input-41-1810b3168479>, line 4)",
     "output_type": "error",
     "traceback": [
      "\u001b[1;36m  File \u001b[1;32m\"<ipython-input-41-1810b3168479>\"\u001b[1;36m, line \u001b[1;32m4\u001b[0m\n\u001b[1;33m    print(\"number is even)\u001b[0m\n\u001b[1;37m                          ^\u001b[0m\n\u001b[1;31mSyntaxError\u001b[0m\u001b[1;31m:\u001b[0m EOL while scanning string literal\n"
     ]
    }
   ],
   "source": [
    "#even number\n",
    "n=int(intput(\"enter the number\"))\n",
    "if(n%2==0):\n",
    "    print(\"number is even)"
   ]
  },
  {
   "cell_type": "code",
   "execution_count": null,
   "metadata": {},
   "outputs": [],
   "source": []
  }
 ],
 "metadata": {
  "kernelspec": {
   "display_name": "Python 3",
   "language": "python",
   "name": "python3"
  },
  "language_info": {
   "codemirror_mode": {
    "name": "ipython",
    "version": 3
   },
   "file_extension": ".py",
   "mimetype": "text/x-python",
   "name": "python",
   "nbconvert_exporter": "python",
   "pygments_lexer": "ipython3",
   "version": "3.7.3"
  }
 },
 "nbformat": 4,
 "nbformat_minor": 2
}
