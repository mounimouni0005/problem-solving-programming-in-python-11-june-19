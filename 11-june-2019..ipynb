{
 "cells": [
  {
   "cell_type": "markdown",
   "metadata": {},
   "source": [
    "###  Python in class(11-june-2019)\n"
   ]
  },
  {
   "cell_type": "code",
   "execution_count": 7,
   "metadata": {},
   "outputs": [
    {
     "name": "stdout",
     "output_type": "stream",
     "text": [
      "good after noon ! hello python\n"
     ]
    }
   ],
   "source": [
    "#python comments\n",
    "print(\"good after noon\",\"!\",end=\" \")\n",
    "print(\"hello python\")"
   ]
  },
  {
   "cell_type": "code",
   "execution_count": 8,
   "metadata": {},
   "outputs": [
    {
     "name": "stdout",
     "output_type": "stream",
     "text": [
      "123 345 456\n"
     ]
    }
   ],
   "source": [
    "#assignment\n",
    "#(=) it is the assignment operator\n",
    "#(==) it is the comparision operator\n",
    "a1=1 #it is the single variable assignment\n",
    "a2=a3=a4=1 #it is the multivariable assignment with same value\n",
    "a,b,c=123,345,456 #it is the multivariable assignment with the multiple values\n",
    "print(a,b,c)"
   ]
  },
  {
   "cell_type": "markdown",
   "metadata": {},
   "source": [
    "### Data types and type conversions\n",
    "* int\n",
    "* float\n",
    "* string"
   ]
  },
  {
   "cell_type": "code",
   "execution_count": 23,
   "metadata": {},
   "outputs": [
    {
     "data": {
      "text/plain": [
       "'python'"
      ]
     },
     "execution_count": 23,
     "metadata": {},
     "output_type": "execute_result"
    }
   ],
   "source": [
    "n1=234\n",
    "n2=\"python\"\n",
    "n3=34.34\n",
    "type(n1)\n",
    "type(n2)\n",
    "type(n3)\n",
    "int(n3)\n",
    "float(n1)\n",
    "str(n2)\n",
    "\n"
   ]
  },
  {
   "cell_type": "markdown",
   "metadata": {},
   "source": [
    "### Arithmetic operations\n",
    "* +\n",
    "* -\n",
    "* /\n",
    "* %\n",
    "* *"
   ]
  },
  {
   "cell_type": "code",
   "execution_count": 24,
   "metadata": {},
   "outputs": [
    {
     "name": "stdout",
     "output_type": "stream",
     "text": [
      "6\n",
      "-4\n",
      "6\n",
      "0.5\n",
      "1\n",
      "1\n"
     ]
    }
   ],
   "source": [
    "a=1\n",
    "b=2\n",
    "c=3\n",
    "print(a+b+c)\n",
    "print(a-b-c)\n",
    "print(a*b*c)\n",
    "print(a/b)\n",
    "print(a%b)\n",
    "print(a**b)"
   ]
  },
  {
   "cell_type": "markdown",
   "metadata": {},
   "source": [
    "### Conditions"
   ]
  },
  {
   "cell_type": "code",
   "execution_count": 30,
   "metadata": {},
   "outputs": [
    {
     "name": "stdout",
     "output_type": "stream",
     "text": [
      "False\n"
     ]
    }
   ],
   "source": [
    "if n1==n2:\n",
    "    print (True)\n",
    "else:\n",
    "    print (False)"
   ]
  },
  {
   "cell_type": "code",
   "execution_count": 32,
   "metadata": {},
   "outputs": [
    {
     "name": "stdout",
     "output_type": "stream",
     "text": [
      "enter the number3\n",
      "odd\n"
     ]
    }
   ],
   "source": [
    "#check the given number is even or odd\n",
    "n=int(input(\"enter the number\"))\n",
    "if n%2==0:\n",
    "    print(\"even\")\n",
    "else:\n",
    "    print(\"odd\")"
   ]
  },
  {
   "cell_type": "code",
   "execution_count": 1,
   "metadata": {},
   "outputs": [
    {
     "name": "stdout",
     "output_type": "stream",
     "text": [
      "343523432\n",
      "342243212324\n",
      "23432434324234123\n",
      "c is greatest number\n"
     ]
    }
   ],
   "source": [
    "#find the greatest of three numbers\n",
    "a=int(input())\n",
    "b=int(input())\n",
    "c=int(input())\n",
    "if a>b and a>c:\n",
    "    print( \"a is greatest number\")\n",
    "if b>a and b>c:\n",
    "    print(\"b is greatest number\")\n",
    "if c>a and c>b:\n",
    "    print(\"c is greatest number\")\n",
    "                \n",
    "            \n"
   ]
  },
  {
   "cell_type": "code",
   "execution_count": 2,
   "metadata": {},
   "outputs": [
    {
     "name": "stdout",
     "output_type": "stream",
     "text": [
      "enter the year1200\n",
      "leap year\n"
     ]
    }
   ],
   "source": [
    "#checking if a year is leap year or not\n",
    "year=int(input(\"enter the year\"))\n",
    "if year%400==0 or (year%100!=0 and year%4==0):\n",
    "    print(\"leap year\")\n",
    "else:\n",
    "    print(\"not a leap year\")"
   ]
  },
  {
   "cell_type": "code",
   "execution_count": 3,
   "metadata": {},
   "outputs": [
    {
     "name": "stdout",
     "output_type": "stream",
     "text": [
      "enter a number6\n",
      "enter the lower boundery1\n",
      "enter the upper boundery10\n",
      "yes\n"
     ]
    }
   ],
   "source": [
    "#check if a number exist in a given range or not\n",
    "n=int(input(\"enter a number\"))\n",
    "lb=int(input(\"enter the lower boundery\"))\n",
    "ub=int(input(\"enter the upper boundery\"))\n",
    "\n",
    "if n>=lb and n<=ub:\n",
    "    print(\"yes\")\n",
    "else:\n",
    "    print(\"no\")"
   ]
  },
  {
   "cell_type": "code",
   "execution_count": 4,
   "metadata": {},
   "outputs": [
    {
     "name": "stdout",
     "output_type": "stream",
     "text": [
      "enter the number3434343\n",
      "7\n"
     ]
    }
   ],
   "source": [
    "#calculate the number of digits in a given number\n",
    "n=input(\"enter the number\")\n",
    "print(len(n))"
   ]
  },
  {
   "cell_type": "code",
   "execution_count": 5,
   "metadata": {},
   "outputs": [
    {
     "name": "stdout",
     "output_type": "stream",
     "text": [
      "enter the number10\n",
      "multiple of 10\n"
     ]
    }
   ],
   "source": [
    "#calculate if a number is multiple of 10\n",
    "n=int(input(\"enter the number\"))\n",
    "if n%10==0:\n",
    "    print(\"multiple of 10\")\n",
    "else:\n",
    "    print(\"not a multiple of 10\")"
   ]
  },
  {
   "cell_type": "code",
   "execution_count": 8,
   "metadata": {},
   "outputs": [
    {
     "name": "stdout",
     "output_type": "stream",
     "text": [
      "enter the number1000\n",
      "factor\n"
     ]
    }
   ],
   "source": [
    "#check if a number is factor of 1000\n",
    "n=int(input(\"enter the number\"))\n",
    "if n%1000==0:\n",
    "    print(\"factor\")\n",
    "else:\n",
    "    print(\"not a factor\")"
   ]
  },
  {
   "cell_type": "code",
   "execution_count": 10,
   "metadata": {},
   "outputs": [
    {
     "name": "stdout",
     "output_type": "stream",
     "text": [
      "equal\n"
     ]
    }
   ],
   "source": [
    "#check if a given string is equal to the number\n",
    "n=1234\n",
    "s=\"1234\"\n",
    "if str(n==s):\n",
    "    print(\"equal\")\n",
    "else:\n",
    "    print(\"not equal\")"
   ]
  },
  {
   "cell_type": "code",
   "execution_count": 11,
   "metadata": {},
   "outputs": [
    {
     "name": "stdout",
     "output_type": "stream",
     "text": [
      "144\n"
     ]
    }
   ],
   "source": [
    "#calculate the squre root of a number with out using functions\n",
    "n=12\n",
    "print(n**2)"
   ]
  },
  {
   "cell_type": "code",
   "execution_count": 4,
   "metadata": {},
   "outputs": [
    {
     "name": "stdout",
     "output_type": "stream",
     "text": [
      "2019\n",
      "31536000000000\n"
     ]
    }
   ],
   "source": [
    "#calculate the number of nono seconds in a given year\n",
    "n=int(input())\n",
    "if n%400==0 or (n%100!=0 and n%4==0):\n",
    "    print(366*24*60*60*(10**6))\n",
    "else:\n",
    "    print(365*24*60*60*(10**6))"
   ]
  },
  {
   "cell_type": "code",
   "execution_count": null,
   "metadata": {},
   "outputs": [],
   "source": []
  }
 ],
 "metadata": {
  "kernelspec": {
   "display_name": "Python 3",
   "language": "python",
   "name": "python3"
  },
  "language_info": {
   "codemirror_mode": {
    "name": "ipython",
    "version": 3
   },
   "file_extension": ".py",
   "mimetype": "text/x-python",
   "name": "python",
   "nbconvert_exporter": "python",
   "pygments_lexer": "ipython3",
   "version": "3.7.3"
  }
 },
 "nbformat": 4,
 "nbformat_minor": 2
}
