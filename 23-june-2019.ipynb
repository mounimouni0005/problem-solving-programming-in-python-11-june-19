{
 "cells": [
  {
   "cell_type": "code",
   "execution_count": 1,
   "metadata": {},
   "outputs": [
    {
     "data": {
      "text/plain": [
       "['hello python', 'how are u today', 'and where are u', 'i hate u so much', '']"
      ]
     },
     "execution_count": 1,
     "metadata": {},
     "output_type": "execute_result"
    }
   ],
   "source": [
    "# Function to read a file into a list of lines\n",
    "# Read file\n",
    "\n",
    "def readFile(filepath):\n",
    "    with open(filepath,'r') as f:\n",
    "        filedata=f.read()\n",
    "        lines=filedata.split('\\n')\n",
    "        #lines=[]\n",
    "        #for line in f:\n",
    "            #lines.append(line)\n",
    "    return lines\n",
    "readFile(\"DataFiles/data.txt\")"
   ]
  },
  {
   "cell_type": "code",
   "execution_count": 2,
   "metadata": {},
   "outputs": [
    {
     "data": {
      "text/plain": [
       "5"
      ]
     },
     "execution_count": 2,
     "metadata": {},
     "output_type": "execute_result"
    }
   ],
   "source": [
    "def countlinefile(filepath):\n",
    "    count=(len(readFile(filepath)))\n",
    "    return count\n",
    "filepath=\"DataFiles/data.txt\"\n",
    "countlinefile(filepath)"
   ]
  },
  {
   "cell_type": "code",
   "execution_count": 3,
   "metadata": {},
   "outputs": [
    {
     "name": "stdout",
     "output_type": "stream",
     "text": [
      "[1, 2, 3]\n",
      "3\n"
     ]
    }
   ],
   "source": [
    "# Function to get unique elements in a list\n",
    "\n",
    "#[1,2,3,3,2,1]->[1,2,3]\n",
    "#Create a empty unique list\n",
    "\n",
    "def uniquedata(li):\n",
    "    # Create an empty unique list\n",
    "    unique=[]\n",
    "    \n",
    "    # For every element in the main list,check if it exists in the unique list\n",
    "    # If it does not exist ,add it to unique list\n",
    "    # else if it already exists,move on to the next element in the main list\n",
    "    for element in li:\n",
    "        if element not in unique:\n",
    "            unique.append(element)\n",
    "    print(unique)\n",
    "    print(len(unique))\n",
    "li=[1,2,3,3,2,1]\n",
    "uniquedata(li)"
   ]
  },
  {
   "cell_type": "code",
   "execution_count": 4,
   "metadata": {},
   "outputs": [
    {
     "name": "stdout",
     "output_type": "stream",
     "text": [
      "hello : 1\n",
      "python : 1\n",
      "how : 1\n",
      "are : 2\n",
      "u : 3\n",
      "today : 1\n",
      "and : 1\n",
      "where : 1\n",
      "i : 1\n",
      "hate : 1\n",
      "so : 1\n",
      "much : 1\n"
     ]
    }
   ],
   "source": [
    "# Function to print the frequency count of a text file\n",
    "    # Dictionary to be used:\n",
    "        # Keys-Unique words\n",
    "        #Values-Count of unique words\n",
    "    # Two lists:\n",
    "        # All words list\n",
    "        # Unique words list\n",
    "    # Set \n",
    "def uniquecount(filename):\n",
    "    with open(filename,'r') as f:\n",
    "        fh=f.read()\n",
    "        s=fh.split()\n",
    "        #for i in s:\n",
    "            #li.append(i)\n",
    "        #for i in li:\n",
    "            #if i not in u:\n",
    "                #u.append(i)\n",
    "        #print(len(u))\n",
    "        #print(u)\n",
    "        for i in s:\n",
    "            if i not in d.keys():\n",
    "                d[i]=1\n",
    "            else:\n",
    "                d[i]+=1\n",
    "        #print(d)\n",
    "        for i in d:\n",
    "            print(i,\":\",d[i])       \n",
    "d={}                    \n",
    "#u=[]\n",
    "#li=[]\n",
    "uniquecount(\"DataFiles/data.txt\")"
   ]
  },
  {
   "cell_type": "code",
   "execution_count": null,
   "metadata": {},
   "outputs": [],
   "source": []
  }
 ],
 "metadata": {
  "kernelspec": {
   "display_name": "Python 3",
   "language": "python",
   "name": "python3"
  },
  "language_info": {
   "codemirror_mode": {
    "name": "ipython",
    "version": 3
   },
   "file_extension": ".py",
   "mimetype": "text/x-python",
   "name": "python",
   "nbconvert_exporter": "python",
   "pygments_lexer": "ipython3",
   "version": "3.7.3"
  }
 },
 "nbformat": 4,
 "nbformat_minor": 2
}
