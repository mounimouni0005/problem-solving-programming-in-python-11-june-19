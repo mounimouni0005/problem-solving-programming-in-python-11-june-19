{
 "cells": [
  {
   "cell_type": "code",
   "execution_count": 3,
   "metadata": {},
   "outputs": [],
   "source": [
    "fh=open('book.txt','w')\n"
   ]
  },
  {
   "cell_type": "code",
   "execution_count": 7,
   "metadata": {},
   "outputs": [
    {
     "data": {
      "text/plain": [
       "13"
      ]
     },
     "execution_count": 7,
     "metadata": {},
     "output_type": "execute_result"
    }
   ],
   "source": [
    "data=\"hai every one\"\n",
    "fh.write(data)"
   ]
  },
  {
   "cell_type": "code",
   "execution_count": 5,
   "metadata": {},
   "outputs": [],
   "source": [
    "fh.close()"
   ]
  },
  {
   "cell_type": "code",
   "execution_count": 7,
   "metadata": {},
   "outputs": [
    {
     "name": "stdout",
     "output_type": "stream",
     "text": [
      "\n"
     ]
    }
   ],
   "source": [
    "fh=open('book.txt','r')\n",
    "print(fh.read())\n",
    "\n",
    "fh.close()"
   ]
  },
  {
   "cell_type": "markdown",
   "metadata": {},
   "source": [
    "### date:22-june-2019\n",
    "\n",
    "### day objectives\n",
    "- file handling\n",
    "    - basic file data processing\n",
    "        - accessing and modifying file data\n",
    "    - character count\n",
    "    - line count\n",
    "    - file size\n",
    "    - word count\n",
    "    - unique word count"
   ]
  },
  {
   "cell_type": "code",
   "execution_count": 20,
   "metadata": {},
   "outputs": [
    {
     "data": {
      "text/plain": [
       "'new data\\n'"
      ]
     },
     "execution_count": 20,
     "metadata": {},
     "output_type": "execute_result"
    }
   ],
   "source": [
    "# read a fiel - file should be exist\n",
    "# write to a file - existing(append) or new file\n",
    "def readFile(filepath):\n",
    "    with open(filepath,'r') as f:#here f is reference to a file object\n",
    "        filedata=f.read()\n",
    "    return filedata\n",
    "filepath='datafiles/data.txt'\n",
    "readFile(filepath)\n",
    "        "
   ]
  },
  {
   "cell_type": "code",
   "execution_count": 21,
   "metadata": {},
   "outputs": [
    {
     "name": "stdout",
     "output_type": "stream",
     "text": [
      "total number of characters: 7\n"
     ]
    }
   ],
   "source": [
    "#charactorcount\n",
    "def charactercount(filepath):\n",
    "    count=0\n",
    "    with open(filepath,'r') as f:\n",
    "        filepath='Datafiles/data.txt'\n",
    "        filedata=f.read()\n",
    "        for i in filedata:\n",
    "            if i.isspace()!=True:\n",
    "                count=count+1\n",
    "        print(\"total number of characters:\",count)\n",
    "charactercount(filepath)"
   ]
  },
  {
   "cell_type": "code",
   "execution_count": 22,
   "metadata": {},
   "outputs": [],
   "source": [
    "#line count\n",
    "def linecount(filepath):\n",
    "    count=0\n",
    "    with open(filepath,'r') as f:\n",
    "        filepath='Datafiles/data.txt'\n",
    "        filedata=f.read()\n",
    "        for i in filedata:\n",
    "            fi"
   ]
  },
  {
   "cell_type": "code",
   "execution_count": 23,
   "metadata": {},
   "outputs": [
    {
     "name": "stdout",
     "output_type": "stream",
     "text": [
      "2\n"
     ]
    }
   ],
   "source": [
    "#word count\n",
    "def wordcount(filepath):\n",
    "    with open(filepath,'r') as f:\n",
    "        s=f.read().split()\n",
    "        print(len(s))\n",
    "filepath='Datafiles/data.txt'\n",
    "wordcount(filepath)"
   ]
  },
  {
   "cell_type": "code",
   "execution_count": 24,
   "metadata": {},
   "outputs": [
    {
     "name": "stdout",
     "output_type": "stream",
     "text": [
      "tatal filesize: 390 bytes\n"
     ]
    }
   ],
   "source": [
    "#size of a file\n",
    "def filesize(filepath):\n",
    "    size=39\n",
    "    with open(filepath,'r') as f:\n",
    "        filepath='Datafiles/data.txt'\n",
    "        filedata=f.read()\n",
    "        for i in filedata:\n",
    "            size=size+39\n",
    "        print(\"tatal filesize:\",size,'bytes')\n",
    "filesize(filepath)"
   ]
  },
  {
   "cell_type": "code",
   "execution_count": 8,
   "metadata": {},
   "outputs": [
    {
     "name": "stdout",
     "output_type": "stream",
     "text": [
      "{'hello': 1, 'python': 1, 'how': 1, 'are': 2, 'u': 3, 'today': 1, 'and': 1, 'where': 1, 'i': 1, 'hate': 1, 'so': 1, 'much': 1}\n"
     ]
    }
   ],
   "source": [
    "#unique word\n",
    "def uniquecount(filepath):\n",
    "    count={}\n",
    "    \n",
    "    with open(filepath,'r') as f:\n",
    "        filedata=f.read()\n",
    "        li=filedata.split()\n",
    "        for i in li:\n",
    "            if i in count:\n",
    "                \n",
    "                count[i]+=1\n",
    "            else:\n",
    "                count[i]=1\n",
    "    print(count)\n",
    "filepath='Datafiles/data.txt'\n",
    "uniquecount(filepath)"
   ]
  },
  {
   "cell_type": "code",
   "execution_count": 4,
   "metadata": {},
   "outputs": [
    {
     "name": "stdout",
     "output_type": "stream",
     "text": [
      "hello : 1\n",
      "python : 2\n",
      "how : 3\n",
      "are : 5\n",
      "u : 8\n",
      "today : 9\n",
      "and : 10\n",
      "where : 11\n",
      "i : 12\n",
      "hate : 13\n",
      "so : 14\n",
      "much : 15\n"
     ]
    }
   ],
   "source": [
    "#unique word count\n",
    "def uniquewordcount(filepath):\n",
    "    c=0\n",
    "    unique=[]\n",
    "    with open(filepath,'r') as f:\n",
    "        filedata=f.read().split()\n",
    "        #filepath='Datafiles/data.txt'\n",
    "        for i in filedata:\n",
    "            k=i\n",
    "            if k not in unique:\n",
    "                unique.append(k)\n",
    "                for j in filedata:\n",
    "                    if k==j:\n",
    "                        c=c+1\n",
    "                print(k,\":\",c)\n",
    "                #c=0\n",
    "    return\n",
    "filepath='Datafiles/data.txt'\n",
    "uniquewordcount(filepath)"
   ]
  },
  {
   "cell_type": "code",
   "execution_count": null,
   "metadata": {},
   "outputs": [],
   "source": [
    "s='Ao121701025'\n",
    "for i in range(0,10):\n",
    "    print(s.count())"
   ]
  }
 ],
 "metadata": {
  "kernelspec": {
   "display_name": "Python 3",
   "language": "python",
   "name": "python3"
  },
  "language_info": {
   "codemirror_mode": {
    "name": "ipython",
    "version": 3
   },
   "file_extension": ".py",
   "mimetype": "text/x-python",
   "name": "python",
   "nbconvert_exporter": "python",
   "pygments_lexer": "ipython3",
   "version": "3.7.3"
  }
 },
 "nbformat": 4,
 "nbformat_minor": 2
}
