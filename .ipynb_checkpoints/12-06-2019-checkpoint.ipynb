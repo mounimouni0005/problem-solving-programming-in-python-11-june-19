{
 "cells": [
  {
   "cell_type": "markdown",
   "metadata": {},
   "source": [
    "### string slicing"
   ]
  },
  {
   "cell_type": "code",
   "execution_count": 10,
   "metadata": {},
   "outputs": [
    {
     "data": {
      "text/plain": [
       "'m|'"
      ]
     },
     "execution_count": 10,
     "metadata": {},
     "output_type": "execute_result"
    }
   ],
   "source": [
    "s1 = \"pythonprogram|\"\n",
    "s1[len(s1)-1]#accessing the last character in a string\n",
    "s1[1]#accessing the second char\n",
    "s1[0]#accessing the first char\n",
    "s1[-1]#accessing the last char\n",
    "s1[-2]#accessing the penultimate char\n",
    "s1[0:2]#accessing the first two char,(: is a slicing operator)\n",
    "s1[-2:]#accessing the last two characters in a string"
   ]
  },
  {
   "cell_type": "code",
   "execution_count": 32,
   "metadata": {},
   "outputs": [
    {
     "data": {
      "text/plain": [
       "'nhy'"
      ]
     },
     "execution_count": 32,
     "metadata": {},
     "output_type": "execute_result"
    }
   ],
   "source": [
    "s1=\"python\"\n",
    "\n",
    "#accessing all characters except first and last character\n",
    "s1[1:-1]\n",
    "#accessig the middle character in a string\n",
    "s1[len(s1)//2]# // is used for the convert the floating into int\n",
    "s1[-1: :-1]#reverse of a string \n",
    "s1[-1:-3:-1]#access last two characters in reverse order\n",
    "s1[-1:-3:-1]\n",
    "#reverse the middle two characters in an even length string\n",
    "s1[len(s1)//2:]\n",
    "#accessing alternate characters in an even length string\n",
    "s1[1::2]\n",
    "#accessing alternate characters in a string with reverse order\n",
    "s1[::-2]\n",
    "#\"python\"---> \"nhy\"\n",
    "\n",
    "\n"
   ]
  },
  {
   "cell_type": "code",
   "execution_count": 38,
   "metadata": {},
   "outputs": [
    {
     "data": {
      "text/plain": [
       "['False',\n",
       " 'None',\n",
       " 'True',\n",
       " 'and',\n",
       " 'as',\n",
       " 'assert',\n",
       " 'async',\n",
       " 'await',\n",
       " 'break',\n",
       " 'class',\n",
       " 'continue',\n",
       " 'def',\n",
       " 'del',\n",
       " 'elif',\n",
       " 'else',\n",
       " 'except',\n",
       " 'finally',\n",
       " 'for',\n",
       " 'from',\n",
       " 'global',\n",
       " 'if',\n",
       " 'import',\n",
       " 'in',\n",
       " 'is',\n",
       " 'lambda',\n",
       " 'nonlocal',\n",
       " 'not',\n",
       " 'or',\n",
       " 'pass',\n",
       " 'raise',\n",
       " 'return',\n",
       " 'try',\n",
       " 'while',\n",
       " 'with',\n",
       " 'yield']"
      ]
     },
     "execution_count": 38,
     "metadata": {},
     "output_type": "execute_result"
    }
   ],
   "source": [
    "import keyword\n",
    "keyword.kwlist"
   ]
  },
  {
   "cell_type": "markdown",
   "metadata": {},
   "source": [
    "###  functions"
   ]
  },
  {
   "cell_type": "code",
   "execution_count": 43,
   "metadata": {},
   "outputs": [
    {
     "data": {
      "text/plain": [
       "'nohtyp'"
      ]
     },
     "execution_count": 43,
     "metadata": {},
     "output_type": "execute_result"
    }
   ],
   "source": [
    "#reverse of a given string\n",
    "def reverseString(s):\n",
    "    return s[::-1]\n",
    "reverseString(\"python\")"
   ]
  },
  {
   "cell_type": "code",
   "execution_count": 10,
   "metadata": {},
   "outputs": [
    {
     "data": {
      "text/plain": [
       "True"
      ]
     },
     "execution_count": 10,
     "metadata": {},
     "output_type": "execute_result"
    }
   ],
   "source": [
    "#fucntion to check if a string is a palindrom\n",
    "def palindrome(s):\n",
    "    if s == s[::-1]:\n",
    "        return True\n",
    "    else:\n",
    "        return False\n",
    "    \n",
    "palindrome(\"123321\")\n",
    "\n",
    "\n"
   ]
  },
  {
   "cell_type": "code",
   "execution_count": 5,
   "metadata": {},
   "outputs": [
    {
     "data": {
      "text/plain": [
       "True"
      ]
     },
     "execution_count": 5,
     "metadata": {},
     "output_type": "execute_result"
    }
   ],
   "source": [
    "#function to check if a given year is a leap year\n",
    "def isLeapYear(year):\n",
    "    if year%400==0 or(year%100!=0 and year%4==0):\n",
    "        return True\n",
    "    else:\n",
    "        return False\n",
    "    \n",
    "isLeapYear(2020)\n",
    " "
   ]
  },
  {
   "cell_type": "code",
   "execution_count": 12,
   "metadata": {},
   "outputs": [
    {
     "name": "stdout",
     "output_type": "stream",
     "text": [
      "enter the number1234\n",
      "4\n"
     ]
    }
   ],
   "source": [
    "#FUNCTION TO COUNT THE NUMBER OF DIGITS IN A GIVEN NUMBER\n",
    "s=input(\"enter the number\")\n",
    "def l(s):\n",
    "    print(len(s))\n",
    "l(s)"
   ]
  },
  {
   "cell_type": "code",
   "execution_count": 14,
   "metadata": {},
   "outputs": [
    {
     "name": "stdout",
     "output_type": "stream",
     "text": [
      "enter the number23\n",
      "enter the number23\n",
      "enter the number24\n",
      "enter the number25\n"
     ]
    },
    {
     "data": {
      "text/plain": [
       "'25'"
      ]
     },
     "execution_count": 14,
     "metadata": {},
     "output_type": "execute_result"
    }
   ],
   "source": [
    "#FUNCTION TO IDENTIFY THE GREATEST OF 4 NUMBERS\n",
    "s1=int(input(\"enter the number\"))\n",
    "s2=int(input(\"enter the number\"))\n",
    "s3=int(input(\"enter the number\"))\n",
    "s4=int(input(\"enter the number\"))\n",
    "def s(s1,s2,s3,s4):\n",
    "    if s1>s2 and s1>s3 and s1>s4:\n",
    "        return s1\n",
    "    elif s2>s1 and s2>s3 and s3>s4:\n",
    "        return s2\n",
    "    elif s3>s1 and s3>s2 and s3>s4:\n",
    "        return s3\n",
    "    else:\n",
    "        return s4\n",
    "s(s1,s2,s3,s4)"
   ]
  },
  {
   "cell_type": "code",
   "execution_count": null,
   "metadata": {},
   "outputs": [],
   "source": []
  },
  {
   "cell_type": "code",
   "execution_count": null,
   "metadata": {},
   "outputs": [],
   "source": []
  }
 ],
 "metadata": {
  "kernelspec": {
   "display_name": "Python 3",
   "language": "python",
   "name": "python3"
  }
 },
 "nbformat": 4,
 "nbformat_minor": 2
}
